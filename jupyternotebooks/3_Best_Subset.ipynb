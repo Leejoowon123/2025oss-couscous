{
 "cells": [
  {
   "cell_type": "markdown",
   "metadata": {},
   "source": [
    "# 2013년부터 2022년까지의 전체 패널 데이터를 대상으로,\n",
    "- 종속변수: GDP\n",
    "- 후보 독립변수: Corporate Tax, GERD, Institutions, Internet Usage 조합\n",
    "- 최적의 모델(AIC 기준)이 선택"
   ]
  },
  {
   "cell_type": "code",
   "execution_count": 4,
   "metadata": {},
   "outputs": [],
   "source": [
    "import pandas as pd\n",
    "import numpy as np\n",
    "import itertools\n",
    "import math\n",
    "import statsmodels.api as sm\n",
    "from linearmodels.panel import PanelOLS"
   ]
  },
  {
   "cell_type": "markdown",
   "metadata": {},
   "source": [
    "- 로그우도, 표본 수, 추정 파라미터 수를 이용하여 AIC 또는 BIC를 계산"
   ]
  },
  {
   "cell_type": "code",
   "execution_count": 5,
   "metadata": {},
   "outputs": [],
   "source": [
    "def calculate_criterion(loglik, nobs, k, criterion='AIC'):\n",
    "    if criterion == 'AIC':\n",
    "        return -2 * loglik + 2 * k\n",
    "    elif criterion == 'BIC':\n",
    "        return -2 * loglik + k * math.log(nobs)\n",
    "    else:\n",
    "        raise ValueError(\"Use 'AIC' or 'BIC'\")"
   ]
  },
  {
   "cell_type": "markdown",
   "metadata": {},
   "source": [
    "- panel_df: MultiIndex (Country, Year) DataFrame, 각 변수는 wide 형식\n",
    "- dep_candidates: 종속변수 후보 목록 e.g.: ['GDP', 'Unemployment Rate']\n",
    "- indep_candidates: 독립변수 후보 목록 e.g.: ['Corporate Tax', 'GERD', 'Institutions', 'Internet Usage']\n",
    "- entity_effects: 고정효과 포함 여부 (If true -> 고정효과 모델)\n",
    "- criterion: 모델 선택 기준 ('AIC' | 'BIC')\n",
    "- 가능한 모든 조합을 시도해 기준이 최소인 모델 정보를 반환"
   ]
  },
  {
   "cell_type": "code",
   "execution_count": 6,
   "metadata": {},
   "outputs": [],
   "source": [
    "def best_subset_panel_all(panel_df, dep_candidates, indep_candidates, entity_effects=True, criterion='AIC'):\n",
    "\n",
    "    best_model_info = None\n",
    "    \n",
    "    # 후보 종속변수와 독립변수의 모든 조합 탐색\n",
    "    for dep_var in dep_candidates:\n",
    "        for r in range(1, len(indep_candidates) + 1):\n",
    "            for combo in itertools.combinations(indep_candidates, r):\n",
    "                vars_to_use = [dep_var] + list(combo)\n",
    "                # 결측치 제거\n",
    "                temp = panel_df[vars_to_use].dropna()\n",
    "                if temp.empty:\n",
    "                    continue\n",
    "                y = temp[dep_var]\n",
    "                X = temp[list(combo)]\n",
    "                X = sm.add_constant(X)\n",
    "                \n",
    "                try:\n",
    "                    model = PanelOLS(y, X, entity_effects=entity_effects)\n",
    "                    res = model.fit(cov_type='clustered', cluster_entity=True)\n",
    "                    # 파라미터 수: 상수 포함\n",
    "                    k = len(res.params)\n",
    "                    score = calculate_criterion(res.loglik, res.nobs, k, criterion=criterion)\n",
    "                    \n",
    "                    if best_model_info is None or score < best_model_info['score']:\n",
    "                        best_model_info = {\n",
    "                            'dep_var': dep_var,\n",
    "                            'indep_vars': combo,\n",
    "                            'score': score,\n",
    "                            'model': res,\n",
    "                            'nobs': res.nobs,\n",
    "                            'criterion': criterion\n",
    "                        }\n",
    "                except Exception as e:\n",
    "                    print(f\"Model estimation failed for {dep_var} with independents {combo}. Error: {e}\")\n",
    "    return best_model_info"
   ]
  },
  {
   "cell_type": "code",
   "execution_count": 7,
   "metadata": {},
   "outputs": [
    {
     "name": "stdout",
     "output_type": "stream",
     "text": [
      "=== Best PanelOLS Model Selected ===\n",
      "Dependent Variable: Unemployment Rate\n",
      "Independent Variables: ('Corporate Tax', 'GERD')\n",
      "Criterion Used: AIC\n",
      "Score: 171.79321908830423\n",
      "Number of Observations: 70\n",
      "                          PanelOLS Estimation Summary                           \n",
      "================================================================================\n",
      "Dep. Variable:      Unemployment Rate   R-squared:                        0.2197\n",
      "Estimator:                   PanelOLS   R-squared (Between):              0.3877\n",
      "No. Observations:                  70   R-squared (Within):               0.2197\n",
      "Date:                Thu, Mar 13 2025   R-squared (Overall):              0.3559\n",
      "Time:                        19:21:04   Log-likelihood                   -82.897\n",
      "Cov. Estimator:             Clustered                                           \n",
      "                                        F-statistic:                      8.5878\n",
      "Entities:                           7   P-value                           0.0005\n",
      "Avg Obs:                      10.0000   Distribution:                    F(2,61)\n",
      "Min Obs:                      10.0000                                           \n",
      "Max Obs:                      10.0000   F-statistic (robust):             2.6763\n",
      "                                        P-value                           0.0769\n",
      "Time periods:                      10   Distribution:                    F(2,61)\n",
      "Avg Obs:                       7.0000                                           \n",
      "Min Obs:                       7.0000                                           \n",
      "Max Obs:                       7.0000                                           \n",
      "                                                                                \n",
      "                               Parameter Estimates                               \n",
      "=================================================================================\n",
      "               Parameter  Std. Err.     T-stat    P-value    Lower CI    Upper CI\n",
      "---------------------------------------------------------------------------------\n",
      "const             4.0375     1.9944     2.0244     0.0473      0.0495      8.0256\n",
      "Corporate Tax     0.1008     0.0447     2.2538     0.0278      0.0114      0.1903\n",
      "GERD             -0.6727     0.6356    -1.0582     0.2941     -1.9437      0.5984\n",
      "=================================================================================\n",
      "\n",
      "F-test for Poolability: 28.124\n",
      "P-value: 0.0000\n",
      "Distribution: F(6,61)\n",
      "\n",
      "Included effects: Entity\n"
     ]
    }
   ],
   "source": [
    "if __name__ == \"__main__\":\n",
    "    # 1. 데이터 로드\n",
    "    df_master = pd.read_csv(\"../data/master_data_by_category.csv\")\n",
    "    # long format으로 변환\n",
    "    years = [str(y) for y in range(2013, 2023)]\n",
    "    df_long = df_master.melt(id_vars=['Country', 'category'], value_vars=years,\n",
    "                            var_name='Year', value_name='Value')\n",
    "    df_long['Year'] = df_long['Year'].astype(int)\n",
    "    # pivot: 인덱스 = (Country, Year), 컬럼 = category, 값 = Value\n",
    "    panel_df = df_long.pivot(index=['Country', 'Year'], columns='category', values='Value')\n",
    "    panel_df.sort_index(level=['Country', 'Year'], inplace=True)\n",
    "    \n",
    "    # 2. 후보 변수 설정\n",
    "    dep_candidates = ['GDP', 'Unemployment Rate']  # 종속변수 후보\n",
    "    indep_candidates = ['Corporate Tax', 'GERD', 'Institutions', 'Internet Usage']  # 독립변수 후보\n",
    "    \n",
    "    # 3. Best Subset Selection 수행\n",
    "    best_model = best_subset_panel_all(panel_df, dep_candidates, indep_candidates, entity_effects=True, criterion='AIC')\n",
    "    \n",
    "    if best_model:\n",
    "        print(\"=== Best PanelOLS Model Selected ===\")\n",
    "        print(\"Dependent Variable:\", best_model['dep_var'])\n",
    "        print(\"Independent Variables:\", best_model['indep_vars'])\n",
    "        print(\"Criterion Used:\", best_model['criterion'])\n",
    "        print(\"Score:\", best_model['score'])\n",
    "        print(\"Number of Observations:\", best_model['nobs'])\n",
    "        print(best_model['model'].summary)\n",
    "    else:\n",
    "        print(\"No valid model could be estimated.\")"
   ]
  }
 ],
 "metadata": {
  "kernelspec": {
   "display_name": ".venv",
   "language": "python",
   "name": "python3"
  },
  "language_info": {
   "codemirror_mode": {
    "name": "ipython",
    "version": 3
   },
   "file_extension": ".py",
   "mimetype": "text/x-python",
   "name": "python",
   "nbconvert_exporter": "python",
   "pygments_lexer": "ipython3",
   "version": "3.11.2"
  }
 },
 "nbformat": 4,
 "nbformat_minor": 2
}
