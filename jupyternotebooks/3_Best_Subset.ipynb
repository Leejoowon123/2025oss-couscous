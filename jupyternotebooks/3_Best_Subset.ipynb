{
 "cells": [
  {
   "cell_type": "markdown",
   "metadata": {},
   "source": [
    "# 2013년부터 2022년까지의 전체 패널 데이터를 대상으로,\n",
    "- 종속변수: GDP\n",
    "- 후보 독립변수: Corporate Tax, GERD, Institutions, Internet Usage 조합\n",
    "- 최적의 모델(AIC 기준)이 선택"
   ]
  },
  {
   "cell_type": "code",
   "execution_count": 4,
   "metadata": {},
   "outputs": [],
   "source": [
    "import pandas as pd\n",
    "import numpy as np\n",
    "import itertools\n",
    "import math\n",
    "import statsmodels.api as sm\n",
    "from linearmodels.panel import PanelOLS"
   ]
  },
  {
   "cell_type": "markdown",
   "metadata": {},
   "source": [
    "- 로그우도, 표본 수, 추정 파라미터 수를 이용하여 AIC 또는 BIC를 계산"
   ]
  },
  {
   "cell_type": "code",
   "execution_count": 5,
   "metadata": {},
   "outputs": [],
   "source": [
    "def calculate_criterion(loglik, nobs, k, criterion='AIC'):\n",
    "    if criterion == 'AIC':\n",
    "        return -2 * loglik + 2 * k\n",
    "    elif criterion == 'BIC':\n",
    "        return -2 * loglik + k * math.log(nobs)\n",
    "    else:\n",
    "        raise ValueError(\"Use 'AIC' or 'BIC'\")"
   ]
  },
  {
   "cell_type": "markdown",
   "metadata": {},
   "source": [
    "- panel_df: MultiIndex (Country, Year) DataFrame, 각 변수는 wide 형식\n",
    "- dep_candidates: 종속변수 후보 목록 e.g.: ['GDP', 'Unemployment Rate']\n",
    "- indep_candidates: 독립변수 후보 목록 e.g.: ['Corporate Tax', 'GERD', 'Institutions', 'Internet Usage']\n",
    "- entity_effects: 고정효과 포함 여부 (If true -> 고정효과 모델)\n",
    "- criterion: 모델 선택 기준 ('AIC' | 'BIC')\n",
    "- 가능한 모든 조합을 시도해 기준이 최소인 모델 정보를 반환"
   ]
  },
  {
   "cell_type": "code",
   "execution_count": 6,
   "metadata": {},
   "outputs": [],
   "source": [
    "def best_subset_panel_all(panel_df, dep_candidates, indep_candidates, entity_effects=True, criterion='AIC'):\n",
    "\n",
    "    best_model_info = None\n",
    "    \n",
    "    # 후보 종속변수와 독립변수의 모든 조합 탐색\n",
    "    for dep_var in dep_candidates:\n",
    "        for r in range(1, len(indep_candidates) + 1):\n",
    "            for combo in itertools.combinations(indep_candidates, r):\n",
    "                vars_to_use = [dep_var] + list(combo)\n",
    "                # 결측치 제거\n",
    "                temp = panel_df[vars_to_use].dropna()\n",
    "                if temp.empty:\n",
    "                    continue\n",
    "                y = temp[dep_var]\n",
    "                X = temp[list(combo)]\n",
    "                X = sm.add_constant(X)\n",
    "                \n",
    "                try:\n",
    "                    model = PanelOLS(y, X, entity_effects=entity_effects)\n",
    "                    res = model.fit(cov_type='clustered', cluster_entity=True)\n",
    "                    # 파라미터 수: 상수 포함\n",
    "                    k = len(res.params)\n",
    "                    score = calculate_criterion(res.loglik, res.nobs, k, criterion=criterion)\n",
    "                    \n",
    "                    if best_model_info is None or score < best_model_info['score']:\n",
    "                        best_model_info = {\n",
    "                            'dep_var': dep_var,\n",
    "                            'indep_vars': combo,\n",
    "                            'score': score,\n",
    "                            'model': res,\n",
    "                            'nobs': res.nobs,\n",
    "                            'criterion': criterion\n",
    "                        }\n",
    "                except Exception as e:\n",
    "                    print(f\"Model estimation failed for {dep_var} with independents {combo}. Error: {e}\")\n",
    "    return best_model_info"
   ]
  },
  {
   "cell_type": "code",
   "execution_count": 7,
   "metadata": {},
   "outputs": [
    {
     "name": "stdout",
     "output_type": "stream",
     "text": [
      "=== Best PanelOLS Model Selected ===\n",
      "Dependent Variable: Unemployment Rate\n",
      "Independent Variables: ('Corporate Tax', 'GERD')\n",
      "Criterion Used: AIC\n",
      "Score: 171.79321908830423\n",
      "Number of Observations: 70\n",
      "                          PanelOLS Estimation Summary                           \n",
      "================================================================================\n",
      "Dep. Variable:      Unemployment Rate   R-squared:                        0.2197\n",
      "Estimator:                   PanelOLS   R-squared (Between):              0.3877\n",
      "No. Observations:                  70   R-squared (Within):               0.2197\n",
      "Date:                Wed, Mar 12 2025   R-squared (Overall):              0.3559\n",
      "Time:                        12:51:40   Log-likelihood                   -82.897\n",
      "Cov. Estimator:             Clustered                                           \n",
      "                                        F-statistic:                      8.5878\n",
      "Entities:                           7   P-value                           0.0005\n",
      "Avg Obs:                      10.0000   Distribution:                    F(2,61)\n",
      "Min Obs:                      10.0000                                           \n",
      "Max Obs:                      10.0000   F-statistic (robust):             2.6763\n",
      "                                        P-value                           0.0769\n",
      "Time periods:                      10   Distribution:                    F(2,61)\n",
      "Avg Obs:                       7.0000                                           \n",
      "Min Obs:                       7.0000                                           \n",
      "Max Obs:                       7.0000                                           \n",
      "                                                                                \n",
      "                               Parameter Estimates                               \n",
      "=================================================================================\n",
      "               Parameter  Std. Err.     T-stat    P-value    Lower CI    Upper CI\n",
      "---------------------------------------------------------------------------------\n",
      "const             4.0375     1.9944     2.0244     0.0473      0.0495      8.0256\n",
      "Corporate Tax     0.1008     0.0447     2.2538     0.0278      0.0114      0.1903\n",
      "GERD             -0.6727     0.6356    -1.0582     0.2941     -1.9437      0.5984\n",
      "=================================================================================\n",
      "\n",
      "F-test for Poolability: 28.124\n",
      "P-value: 0.0000\n",
      "Distribution: F(6,61)\n",
      "\n",
      "Included effects: Entity\n"
     ]
    }
   ],
   "source": [
    "if __name__ == \"__main__\":\n",
    "    # 1. 데이터 로드\n",
    "    df_master = pd.read_csv(\"../data/master_data_by_category.csv\")\n",
    "    # long format으로 변환\n",
    "    years = [str(y) for y in range(2013, 2023)]\n",
    "    df_long = df_master.melt(id_vars=['Country', 'category'], value_vars=years,\n",
    "                            var_name='Year', value_name='Value')\n",
    "    df_long['Year'] = df_long['Year'].astype(int)\n",
    "    # pivot: 인덱스 = (Country, Year), 컬럼 = category, 값 = Value\n",
    "    panel_df = df_long.pivot(index=['Country', 'Year'], columns='category', values='Value')\n",
    "    panel_df.sort_index(level=['Country', 'Year'], inplace=True)\n",
    "    \n",
    "    # 2. 후보 변수 설정\n",
    "    dep_candidates = ['GDP', 'Unemployment Rate']  # 종속변수 후보\n",
    "    indep_candidates = ['Corporate Tax', 'GERD', 'Institutions', 'Internet Usage']  # 독립변수 후보\n",
    "    \n",
    "    # 3. Best Subset Selection 수행\n",
    "    best_model = best_subset_panel_all(panel_df, dep_candidates, indep_candidates, entity_effects=True, criterion='AIC')\n",
    "    \n",
    "    if best_model:\n",
    "        print(\"=== Best PanelOLS Model Selected ===\")\n",
    "        print(\"Dependent Variable:\", best_model['dep_var'])\n",
    "        print(\"Independent Variables:\", best_model['indep_vars'])\n",
    "        print(\"Criterion Used:\", best_model['criterion'])\n",
    "        print(\"Score:\", best_model['score'])\n",
    "        print(\"Number of Observations:\", best_model['nobs'])\n",
    "        print(best_model['model'].summary)\n",
    "    else:\n",
    "        print(\"No valid model could be estimated.\")"
   ]
  },
  {
   "cell_type": "markdown",
   "metadata": {},
   "source": [
    "## 모든 카테고리를 종속, 독립 변수로 사용"
   ]
  },
  {
   "cell_type": "markdown",
   "metadata": {},
   "source": [
    "- calculate_criterion 함수 그대로 사용"
   ]
  },
  {
   "cell_type": "markdown",
   "metadata": {},
   "source": [
    "- panel_df: 인덱스=(Country,Year), 컬럼=모든 category (wide format)\n",
    "- entity_effects: 고정효과(True) / 없음(False)\n",
    "- criterion: 'AIC' or 'BIC'"
   ]
  },
  {
   "cell_type": "markdown",
   "metadata": {},
   "source": [
    "1) 모든 카테고리를 종속변수 후보로 시도\n",
    "2) 종속변수와 동일한 카테고리는 독립변수 후보에서 제거\n",
    "3) 독립변수 후보 부분집합(최소 1개 이상)을 탐색\n",
    "4) PanelOLS 적합 후, AIC/BIC가 최소인 모델 선택"
   ]
  },
  {
   "cell_type": "markdown",
   "metadata": {},
   "source": [
    "### 아래 코드는 너무 오래 걸림(조합의 수가 多) So, 병렬 처리 필요"
   ]
  },
  {
   "cell_type": "code",
   "execution_count": 8,
   "metadata": {},
   "outputs": [],
   "source": [
    "# def best_subset_panel_all_categories(panel_df, entity_effects=True, criterion='AIC'):\n",
    "\n",
    "#     all_cats = list(panel_df.columns)  # 모든 카테고리\n",
    "#     best_model_info = None\n",
    "    \n",
    "#     for dep_var in all_cats:\n",
    "#         if panel_df[dep_var].dropna().empty:\n",
    "#             continue\n",
    "        \n",
    "#         # 독립변수 후보: 종속변수를 제외한 나머지\n",
    "#         indep_candidates = [c for c in all_cats if c != dep_var]\n",
    "        \n",
    "#         # 최소 1개 이상 독립변수를 선택하는 모든 조합\n",
    "#         for r in range(1, len(indep_candidates) + 1):\n",
    "#             for combo in itertools.combinations(indep_candidates, r):\n",
    "#                 vars_used = [dep_var] + list(combo)\n",
    "#                 temp = panel_df[vars_used].dropna()\n",
    "#                 if temp.empty:\n",
    "#                     continue\n",
    "                \n",
    "#                 y = temp[dep_var]\n",
    "#                 X = temp[list(combo)]\n",
    "#                 X = sm.add_constant(X)\n",
    "                \n",
    "#                 try:\n",
    "#                     model = PanelOLS(y, X, entity_effects=entity_effects)\n",
    "#                     res = model.fit(cov_type='clustered', cluster_entity=True)\n",
    "#                     # 파라미터 수(상수 포함)\n",
    "#                     k = len(res.params)  \n",
    "#                     score = calculate_criterion(res.loglik, res.nobs, k, criterion)\n",
    "                    \n",
    "#                     if best_model_info is None or score < best_model_info['score']:\n",
    "#                         best_model_info = {\n",
    "#                             'dep_var': dep_var,\n",
    "#                             'indep_vars': combo,\n",
    "#                             'score': score,\n",
    "#                             'model': res,\n",
    "#                             'nobs': res.nobs,\n",
    "#                             'criterion': criterion\n",
    "#                         }\n",
    "#                 except Exception as e:\n",
    "#                     # 모델 추정 실패 시 pass\n",
    "#                     pass\n",
    "#     return best_model_info"
   ]
  },
  {
   "cell_type": "code",
   "execution_count": 9,
   "metadata": {},
   "outputs": [],
   "source": [
    "# if __name__ == \"__main__\":\n",
    "#     df_master = pd.read_csv(\"../data/master_data_by_category.csv\")\n",
    "#     years = [str(y) for y in range(2013, 2023)]\n",
    "#     df_long = df_master.melt(\n",
    "#         id_vars=['Country', 'category'],\n",
    "#         value_vars=years,\n",
    "#         var_name='Year',\n",
    "#         value_name='Value'\n",
    "#     )\n",
    "#     df_long['Year'] = df_long['Year'].astype(int)\n",
    "#     panel_df = df_long.pivot(index=['Country','Year'], columns='category', values='Value')\n",
    "#     panel_df.sort_index(level=['Country','Year'], inplace=True)\n",
    "    \n",
    "#     # 2) Best Subset Selection (모든 카테고리)\n",
    "#     best_model = best_subset_panel_all_categories(panel_df, entity_effects=True, criterion='AIC')\n",
    "    \n",
    "#     if best_model:\n",
    "#         print(\"=== Best PanelOLS Model Selected ===\")\n",
    "#         print(\"Dependent Variable:\", best_model['dep_var'])\n",
    "#         print(\"Independent Variables:\", best_model['indep_vars'])\n",
    "#         print(f\"{best_model['criterion']}: {best_model['score']}\")\n",
    "#         print(\"Number of Observations:\", best_model['nobs'])\n",
    "#         print(best_model['model'].summary)\n",
    "#     else:\n",
    "#         print(\"No valid model could be estimated.\")"
   ]
  },
  {
   "cell_type": "markdown",
   "metadata": {},
   "source": [
    "### 병렬 처리"
   ]
  },
  {
   "cell_type": "code",
   "execution_count": 10,
   "metadata": {},
   "outputs": [],
   "source": [
    "from joblib import Parallel, delayed"
   ]
  },
  {
   "cell_type": "markdown",
   "metadata": {},
   "source": [
    "- 주어진 종속 변수(dep_var)와 독립 변수 조합(combo)에 대해 PanelOLS를 적합하고, \n",
    "- AIC | BIC 점수를 계산하는 함수"
   ]
  },
  {
   "cell_type": "code",
   "execution_count": 11,
   "metadata": {},
   "outputs": [],
   "source": [
    "def evaluate_combo(dep_var, combo, panel_df, entity_effects, criterion):\n",
    "\n",
    "    vars_to_use = [dep_var] + list(combo)\n",
    "    temp = panel_df[vars_to_use].dropna()\n",
    "    if temp.empty:\n",
    "        return None\n",
    "    y = temp[dep_var]\n",
    "    X = temp[list(combo)]\n",
    "    X = sm.add_constant(X)\n",
    "    \n",
    "    try:\n",
    "        model = PanelOLS(y, X, entity_effects=entity_effects)\n",
    "        res = model.fit(cov_type='clustered', cluster_entity=True)\n",
    "        k = len(res.params)  # 상수항 포함 파라미터 수\n",
    "        score = calculate_criterion(res.loglik, res.nobs, k, criterion)\n",
    "        return {\n",
    "            'dep_var': dep_var,\n",
    "            'indep_vars': combo,\n",
    "            'score': score,\n",
    "            'model': res,\n",
    "            'nobs': res.nobs\n",
    "        }\n",
    "    except Exception as e:\n",
    "        return None"
   ]
  },
  {
   "cell_type": "markdown",
   "metadata": {},
   "source": [
    "- panel_df: MultiIndex (Country, Year)를 갖는 DataFrame (wide format, 각 변수=category)\n",
    "- dep_candidates: 종속변수 후보 목록 (예: ['GDP', 'Unemployment Rate', ...])\n",
    "- indep_candidates: 전체 독립변수 후보 목록 (이 함수에서는 모든 카테고리를 대상,\n",
    "                    각 종속 변수 후보에 대해 독립변수 후보는 종속 변수를 제외한 모든 변수로 자동 설정)\n",
    "- entity_effects: 고정효과 포함 여부 (If true -> 고정효과 모델)\n",
    "- criterion: 모델 선택 기준 ('AIC' 또는 'BIC')\n",
    "- n_jobs: 병렬 처리 시 사용 CPU 코어 수 (기본 -1: 가능한 모든 코어 사용)\n",
    "- return: 최적 모델 정보를 담은 dict"
   ]
  },
  {
   "cell_type": "code",
   "execution_count": 12,
   "metadata": {},
   "outputs": [],
   "source": [
    "def best_subset_panel_all_categories_parallel(panel_df, dep_candidates, indep_candidates, entity_effects=True, criterion='AIC', n_jobs=-1):\n",
    "    all_cats = list(panel_df.columns)  # 모든 카테고리가 독립변수 후보\n",
    "    best_model_info = None\n",
    "    results = []\n",
    "    \n",
    "    for dep_var in dep_candidates:\n",
    "        # 독립 변수 후보: 전체 후보에서 종속 변수를 제거\n",
    "        indep_candidates_dep = [c for c in all_cats if c != dep_var]\n",
    "        \n",
    "        # 가능한 모든 독립 변수 조합 (최소 1개 이상)\n",
    "        for r in range(1, len(indep_candidates_dep) + 1):\n",
    "            combos = list(itertools.combinations(indep_candidates_dep, r))\n",
    "            # 병렬 처리하여 각 조합에 대해 모델 평가\n",
    "            res_list = Parallel(n_jobs=n_jobs, backend=\"multiprocessing\")(\n",
    "                delayed(evaluate_combo)(dep_var, combo, panel_df, entity_effects, criterion) for combo in combos\n",
    "            )\n",
    "            # None인 결과 제거\n",
    "            res_list = [res for res in res_list if res is not None]\n",
    "            results.extend(res_list)\n",
    "    \n",
    "    if results:\n",
    "        best_model_info = min(results, key=lambda x: x['score'])\n",
    "    return best_model_info"
   ]
  },
  {
   "cell_type": "code",
   "execution_count": null,
   "metadata": {},
   "outputs": [
    {
     "ename": "KeyboardInterrupt",
     "evalue": "",
     "output_type": "error",
     "traceback": [
      "\u001b[31m---------------------------------------------------------------------------\u001b[39m",
      "\u001b[31mKeyboardInterrupt\u001b[39m                         Traceback (most recent call last)",
      "\u001b[36mCell\u001b[39m\u001b[36m \u001b[39m\u001b[32mIn[14]\u001b[39m\u001b[32m, line 19\u001b[39m\n\u001b[32m     16\u001b[39m indep_candidates = \u001b[38;5;28mlist\u001b[39m(panel_df.columns)\n\u001b[32m     18\u001b[39m \u001b[38;5;66;03m# 5. Best Subset Selection 실행 (전체 패널 데이터 사용, 고정효과 모델)\u001b[39;00m\n\u001b[32m---> \u001b[39m\u001b[32m19\u001b[39m best_model = \u001b[43mbest_subset_panel_all_categories_parallel\u001b[49m\u001b[43m(\u001b[49m\n\u001b[32m     20\u001b[39m \u001b[43m    \u001b[49m\u001b[43mpanel_df\u001b[49m\u001b[43m,\u001b[49m\u001b[43m \u001b[49m\n\u001b[32m     21\u001b[39m \u001b[43m    \u001b[49m\u001b[43mdep_candidates\u001b[49m\u001b[43m=\u001b[49m\u001b[43mdep_candidates\u001b[49m\u001b[43m,\u001b[49m\u001b[43m \u001b[49m\n\u001b[32m     22\u001b[39m \u001b[43m    \u001b[49m\u001b[43mindep_candidates\u001b[49m\u001b[43m=\u001b[49m\u001b[43mindep_candidates\u001b[49m\u001b[43m,\u001b[49m\u001b[43m \u001b[49m\n\u001b[32m     23\u001b[39m \u001b[43m    \u001b[49m\u001b[43mentity_effects\u001b[49m\u001b[43m=\u001b[49m\u001b[38;5;28;43;01mTrue\u001b[39;49;00m\u001b[43m,\u001b[49m\u001b[43m \u001b[49m\n\u001b[32m     24\u001b[39m \u001b[43m    \u001b[49m\u001b[43mcriterion\u001b[49m\u001b[43m=\u001b[49m\u001b[33;43m'\u001b[39;49m\u001b[33;43mAIC\u001b[39;49m\u001b[33;43m'\u001b[39;49m\u001b[43m,\u001b[49m\u001b[43m \u001b[49m\n\u001b[32m     25\u001b[39m \u001b[43m    \u001b[49m\u001b[43mn_jobs\u001b[49m\u001b[43m=\u001b[49m\u001b[43m-\u001b[49m\u001b[32;43m1\u001b[39;49m\n\u001b[32m     26\u001b[39m \u001b[43m\u001b[49m\u001b[43m)\u001b[49m\n\u001b[32m     28\u001b[39m \u001b[38;5;28;01mif\u001b[39;00m best_model:\n\u001b[32m     29\u001b[39m     \u001b[38;5;28mprint\u001b[39m(\u001b[33m\"\u001b[39m\u001b[33m=== Best PanelOLS Model Selected ===\u001b[39m\u001b[33m\"\u001b[39m)\n",
      "\u001b[36mCell\u001b[39m\u001b[36m \u001b[39m\u001b[32mIn[12]\u001b[39m\u001b[32m, line 14\u001b[39m, in \u001b[36mbest_subset_panel_all_categories_parallel\u001b[39m\u001b[34m(panel_df, dep_candidates, indep_candidates, entity_effects, criterion, n_jobs)\u001b[39m\n\u001b[32m     12\u001b[39m combos = \u001b[38;5;28mlist\u001b[39m(itertools.combinations(indep_candidates_dep, r))\n\u001b[32m     13\u001b[39m \u001b[38;5;66;03m# 병렬 처리하여 각 조합에 대해 모델 평가\u001b[39;00m\n\u001b[32m---> \u001b[39m\u001b[32m14\u001b[39m res_list = \u001b[43mParallel\u001b[49m\u001b[43m(\u001b[49m\u001b[43mn_jobs\u001b[49m\u001b[43m=\u001b[49m\u001b[43mn_jobs\u001b[49m\u001b[43m,\u001b[49m\u001b[43m \u001b[49m\u001b[43mbackend\u001b[49m\u001b[43m=\u001b[49m\u001b[33;43m\"\u001b[39;49m\u001b[33;43mmultiprocessing\u001b[39;49m\u001b[33;43m\"\u001b[39;49m\u001b[43m)\u001b[49m\u001b[43m(\u001b[49m\n\u001b[32m     15\u001b[39m \u001b[43m    \u001b[49m\u001b[43mdelayed\u001b[49m\u001b[43m(\u001b[49m\u001b[43mevaluate_combo\u001b[49m\u001b[43m)\u001b[49m\u001b[43m(\u001b[49m\u001b[43mdep_var\u001b[49m\u001b[43m,\u001b[49m\u001b[43m \u001b[49m\u001b[43mcombo\u001b[49m\u001b[43m,\u001b[49m\u001b[43m \u001b[49m\u001b[43mpanel_df\u001b[49m\u001b[43m,\u001b[49m\u001b[43m \u001b[49m\u001b[43mentity_effects\u001b[49m\u001b[43m,\u001b[49m\u001b[43m \u001b[49m\u001b[43mcriterion\u001b[49m\u001b[43m)\u001b[49m\u001b[43m \u001b[49m\u001b[38;5;28;43;01mfor\u001b[39;49;00m\u001b[43m \u001b[49m\u001b[43mcombo\u001b[49m\u001b[43m \u001b[49m\u001b[38;5;129;43;01min\u001b[39;49;00m\u001b[43m \u001b[49m\u001b[43mcombos\u001b[49m\n\u001b[32m     16\u001b[39m \u001b[43m\u001b[49m\u001b[43m)\u001b[49m\n\u001b[32m     17\u001b[39m \u001b[38;5;66;03m# None인 결과 제거\u001b[39;00m\n\u001b[32m     18\u001b[39m res_list = [res \u001b[38;5;28;01mfor\u001b[39;00m res \u001b[38;5;129;01min\u001b[39;00m res_list \u001b[38;5;28;01mif\u001b[39;00m res \u001b[38;5;129;01mis\u001b[39;00m \u001b[38;5;129;01mnot\u001b[39;00m \u001b[38;5;28;01mNone\u001b[39;00m]\n",
      "\u001b[36mFile \u001b[39m\u001b[32mc:\\workspace\\2025oss-couscous\\.venv\\Lib\\site-packages\\joblib\\parallel.py:2007\u001b[39m, in \u001b[36mParallel.__call__\u001b[39m\u001b[34m(self, iterable)\u001b[39m\n\u001b[32m   2001\u001b[39m \u001b[38;5;66;03m# The first item from the output is blank, but it makes the interpreter\u001b[39;00m\n\u001b[32m   2002\u001b[39m \u001b[38;5;66;03m# progress until it enters the Try/Except block of the generator and\u001b[39;00m\n\u001b[32m   2003\u001b[39m \u001b[38;5;66;03m# reaches the first `yield` statement. This starts the asynchronous\u001b[39;00m\n\u001b[32m   2004\u001b[39m \u001b[38;5;66;03m# dispatch of the tasks to the workers.\u001b[39;00m\n\u001b[32m   2005\u001b[39m \u001b[38;5;28mnext\u001b[39m(output)\n\u001b[32m-> \u001b[39m\u001b[32m2007\u001b[39m \u001b[38;5;28;01mreturn\u001b[39;00m output \u001b[38;5;28;01mif\u001b[39;00m \u001b[38;5;28mself\u001b[39m.return_generator \u001b[38;5;28;01melse\u001b[39;00m \u001b[38;5;28;43mlist\u001b[39;49m\u001b[43m(\u001b[49m\u001b[43moutput\u001b[49m\u001b[43m)\u001b[49m\n",
      "\u001b[36mFile \u001b[39m\u001b[32mc:\\workspace\\2025oss-couscous\\.venv\\Lib\\site-packages\\joblib\\parallel.py:1650\u001b[39m, in \u001b[36mParallel._get_outputs\u001b[39m\u001b[34m(self, iterator, pre_dispatch)\u001b[39m\n\u001b[32m   1647\u001b[39m     \u001b[38;5;28;01myield\u001b[39;00m\n\u001b[32m   1649\u001b[39m     \u001b[38;5;28;01mwith\u001b[39;00m \u001b[38;5;28mself\u001b[39m._backend.retrieval_context():\n\u001b[32m-> \u001b[39m\u001b[32m1650\u001b[39m         \u001b[38;5;28;01myield from\u001b[39;00m \u001b[38;5;28mself\u001b[39m._retrieve()\n\u001b[32m   1652\u001b[39m \u001b[38;5;28;01mexcept\u001b[39;00m \u001b[38;5;167;01mGeneratorExit\u001b[39;00m:\n\u001b[32m   1653\u001b[39m     \u001b[38;5;66;03m# The generator has been garbage collected before being fully\u001b[39;00m\n\u001b[32m   1654\u001b[39m     \u001b[38;5;66;03m# consumed. This aborts the remaining tasks if possible and warn\u001b[39;00m\n\u001b[32m   1655\u001b[39m     \u001b[38;5;66;03m# the user if necessary.\u001b[39;00m\n\u001b[32m   1656\u001b[39m     \u001b[38;5;28mself\u001b[39m._exception = \u001b[38;5;28;01mTrue\u001b[39;00m\n",
      "\u001b[36mFile \u001b[39m\u001b[32mc:\\workspace\\2025oss-couscous\\.venv\\Lib\\site-packages\\joblib\\parallel.py:1762\u001b[39m, in \u001b[36mParallel._retrieve\u001b[39m\u001b[34m(self)\u001b[39m\n\u001b[32m   1757\u001b[39m \u001b[38;5;66;03m# If the next job is not ready for retrieval yet, we just wait for\u001b[39;00m\n\u001b[32m   1758\u001b[39m \u001b[38;5;66;03m# async callbacks to progress.\u001b[39;00m\n\u001b[32m   1759\u001b[39m \u001b[38;5;28;01mif\u001b[39;00m ((\u001b[38;5;28mlen\u001b[39m(\u001b[38;5;28mself\u001b[39m._jobs) == \u001b[32m0\u001b[39m) \u001b[38;5;129;01mor\u001b[39;00m\n\u001b[32m   1760\u001b[39m     (\u001b[38;5;28mself\u001b[39m._jobs[\u001b[32m0\u001b[39m].get_status(\n\u001b[32m   1761\u001b[39m         timeout=\u001b[38;5;28mself\u001b[39m.timeout) == TASK_PENDING)):\n\u001b[32m-> \u001b[39m\u001b[32m1762\u001b[39m     time.sleep(\u001b[32m0.01\u001b[39m)\n\u001b[32m   1763\u001b[39m     \u001b[38;5;28;01mcontinue\u001b[39;00m\n\u001b[32m   1765\u001b[39m \u001b[38;5;66;03m# We need to be careful: the job list can be filling up as\u001b[39;00m\n\u001b[32m   1766\u001b[39m \u001b[38;5;66;03m# we empty it and Python list are not thread-safe by\u001b[39;00m\n\u001b[32m   1767\u001b[39m \u001b[38;5;66;03m# default hence the use of the lock\u001b[39;00m\n",
      "\u001b[31mKeyboardInterrupt\u001b[39m: "
     ]
    }
   ],
   "source": [
    "# if __name__ == \"__main__\":\n",
    "#     df_master = pd.read_csv(\"../data/master_data_by_category.csv\")\n",
    "\n",
    "#     years = [str(y) for y in range(2013, 2023)]\n",
    "#     df_long = df_master.melt(id_vars=['Country', 'category'], value_vars=years,\n",
    "#                             var_name='Year', value_name='Value')\n",
    "#     df_long['Year'] = df_long['Year'].astype(int)\n",
    "\n",
    "#     # 3. Wide format: 인덱스=(Country, Year), 컬럼=각 category, 값=Value\n",
    "#     panel_df = df_long.pivot(index=['Country', 'Year'], columns='category', values='Value')\n",
    "#     panel_df.sort_index(level=['Country', 'Year'], inplace=True)\n",
    "\n",
    "#     # 4. 후보 변수 설정: 모든 카테고리를 종속 변수 후보\n",
    "#     dep_candidates = list(panel_df.columns)\n",
    "#     # 독립 변수 후보는 모두 동일(전체 카테고리), 각 경우에 종속 변수는 자동으로 제거\n",
    "#     indep_candidates = list(panel_df.columns)\n",
    "\n",
    "#     # 5. Best Subset Selection 실행 (전체 패널 데이터 사용, 고정효과 모델)\n",
    "#     best_model = best_subset_panel_all_categories_parallel(\n",
    "#         panel_df, \n",
    "#         dep_candidates=dep_candidates, \n",
    "#         indep_candidates=indep_candidates, \n",
    "#         entity_effects=True, \n",
    "#         criterion='AIC', \n",
    "#         n_jobs=-1\n",
    "#     )\n",
    "\n",
    "#     if best_model:\n",
    "#         print(\"=== Best PanelOLS Model Selected ===\")\n",
    "#         print(\"Dependent Variable:\", best_model['dep_var'])\n",
    "#         print(\"Independent Variables:\", best_model['indep_vars'])\n",
    "#         print(\"Criterion:\", best_model['criterion'])\n",
    "#         print(\"Score:\", best_model['score'])\n",
    "#         print(\"Number of Observations:\", best_model['nobs'])\n",
    "#         print(best_model['model'].summary)\n",
    "#     else:\n",
    "#         print(\"No valid model could be estimated.\")"
   ]
  },
  {
   "cell_type": "code",
   "execution_count": null,
   "metadata": {},
   "outputs": [],
   "source": []
  }
 ],
 "metadata": {
  "kernelspec": {
   "display_name": ".venv",
   "language": "python",
   "name": "python3"
  },
  "language_info": {
   "codemirror_mode": {
    "name": "ipython",
    "version": 3
   },
   "file_extension": ".py",
   "mimetype": "text/x-python",
   "name": "python",
   "nbconvert_exporter": "python",
   "pygments_lexer": "ipython3",
   "version": "3.11.2"
  }
 },
 "nbformat": 4,
 "nbformat_minor": 2
}
