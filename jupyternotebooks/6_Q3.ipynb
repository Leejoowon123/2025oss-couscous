{
 "cells": [
  {
   "cell_type": "markdown",
   "metadata": {},
   "source": [
    "# Q3: AI 세율을 정책적으로 적용했을 때의 거시경제적 효과?"
   ]
  },
  {
   "cell_type": "code",
   "execution_count": null,
   "metadata": {
    "vscode": {
     "languageId": "plaintext"
    }
   },
   "outputs": [],
   "source": [
    "import numpy as np\n",
    "import pandas as pd\n",
    "import statsmodels.api as sm\n",
    "import matplotlib.pyplot as plt\n",
    "import seaborn as sns\n",
    "from scipy.optimize import minimize\n",
    "from linearmodels.panel import PanelOLS\n",
    "from sklearn.decomposition import PCA\n",
    "from sklearn.linear_model import Ridge\n",
    "\n",
    "file_path = \"../data/master_data_by_category.csv\"\n",
    "df = pd.read_csv(file_path)\n",
    "\n",
    "df = df.pivot(index=['Country', 'Year'], columns='category', values='Value')\n",
    "\n",
    "df = df[['GDP', 'Corporate Tax', 'Patent Publications', 'GERD', 'WIPO Tax', 'Unemployment Rate']].dropna()"
   ]
  },
  {
   "cell_type": "markdown",
   "metadata": {},
   "source": [
    "## 1. 반사실 분석 (Counterfactual Analysis)"
   ]
  },
  {
   "cell_type": "code",
   "execution_count": null,
   "metadata": {
    "vscode": {
     "languageId": "plaintext"
    }
   },
   "outputs": [],
   "source": [
    "# 가상의 AI 세율 설정 (기존의 Corporate Tax & WIPO Tax 기반)\n",
    "df['AI Tax Simulated'] = df['WIPO Tax'] * 0.5 + df['Corporate Tax'] * 0.5\n",
    "\n",
    "# 패널 회귀 분석(AI 세율이 경제 성장에 미치는 영향)\n",
    "X = df[['AI Tax Simulated', 'Corporate Tax', 'WIPO Tax']]\n",
    "y = df['GDP']\n",
    "X = sm.add_constant(X)\n",
    "\n",
    "# 패널 OLS 회귀 분석\n",
    "model = sm.OLS(y, X).fit()\n",
    "print(\"\\n Counterfactual AI Tax Regression Results\")\n",
    "print(model.summary())"
   ]
  },
  {
   "cell_type": "markdown",
   "metadata": {},
   "source": [
    "## 2. 합성 통제법 (Synthetic Control Method)"
   ]
  },
  {
   "cell_type": "code",
   "execution_count": null,
   "metadata": {
    "vscode": {
     "languageId": "plaintext"
    }
   },
   "outputs": [],
   "source": [
    "# PCA를 이용하여 AI 세율이 적용된 가상의 국가 생성\n",
    "features = df[['Corporate Tax', 'WIPO Tax', 'Patent Publications', 'GERD']]\n",
    "pca = PCA(n_components=1)\n",
    "df['Synthetic AI Tax'] = pca.fit_transform(features)\n",
    "\n",
    "# 합성 통제 국가의 경제 성장 예측(Ridge 회귀 활용)\n",
    "X_syn = df[['Synthetic AI Tax', 'Corporate Tax', 'WIPO Tax']]\n",
    "y_syn = df['GDP']\n",
    "X_syn = sm.add_constant(X_syn)\n",
    "\n",
    "synthetic_model = sm.OLS(y_syn, X_syn).fit()\n",
    "print(\"\\n Synthetic Control Method Regression Results\")\n",
    "print(synthetic_model.summary())"
   ]
  },
  {
   "cell_type": "markdown",
   "metadata": {},
   "source": [
    "## 3. 거시경제 시뮬레이션 (Macroeconomic Simulation)"
   ]
  },
  {
   "cell_type": "code",
   "execution_count": null,
   "metadata": {
    "vscode": {
     "languageId": "plaintext"
    }
   },
   "outputs": [],
   "source": [
    "def economic_growth_simulation(tax_rate, beta0, beta1, beta2):\n",
    "    return beta0 + beta1 * tax_rate - beta2 * tax_rate**2\n",
    "\n",
    "# 최적화 함수\n",
    "def optimal_tax_growth(tax_rate, beta0, beta1, beta2):\n",
    "    return -economic_growth_simulation(tax_rate, beta0, beta1, beta2)"
   ]
  },
  {
   "cell_type": "code",
   "execution_count": null,
   "metadata": {
    "vscode": {
     "languageId": "plaintext"
    }
   },
   "outputs": [],
   "source": [
    "# 회귀 계수 추출\n",
    "beta0, beta1, beta2 = model.params[0], model.params[1], model.params[1] / 10\n",
    "\n",
    "# 최적 AI 세율 찾기\n",
    "res = minimize(optimal_tax_growth, x0=0.2, args=(beta0, beta1, beta2), bounds=[(0, 1)])\n",
    "optimal_tax = res.x[0]\n",
    "\n",
    "print(f\"\\n 최적 AI 세율 (거시경제 시뮬레이션 결과): {optimal_tax:.2%}\")"
   ]
  },
  {
   "cell_type": "code",
   "execution_count": null,
   "metadata": {
    "vscode": {
     "languageId": "plaintext"
    }
   },
   "outputs": [],
   "source": [
    "tax_rates = np.linspace(0, 1, 100)\n",
    "growth_rates = economic_growth_simulation(tax_rates, beta0, beta1, beta2)\n",
    "\n",
    "plt.figure(figsize=(8, 5))\n",
    "plt.plot(tax_rates, growth_rates, label=\"GDP Growth vs. AI Tax\")\n",
    "plt.axvline(optimal_tax, color='r', linestyle='--', label=f'Optimal AI Tax: {optimal_tax:.2%}')\n",
    "plt.xlabel(\"AI Tax Rate\")\n",
    "plt.ylabel(\"GDP Growth Rate (%)\")\n",
    "plt.legend()\n",
    "plt.title(\"Optimal AI Tax Rate(using Macroeconomic Simulation)\")\n",
    "plt.show()"
   ]
  }
 ],
 "metadata": {
  "language_info": {
   "name": "python"
  }
 },
 "nbformat": 4,
 "nbformat_minor": 2
}
