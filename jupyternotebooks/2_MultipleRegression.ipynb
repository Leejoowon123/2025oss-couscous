{
 "cells": [
  {
   "cell_type": "markdown",
   "metadata": {},
   "source": [
    "# 전체 기간(2013~2022) 동태적 효과 고려 코드"
   ]
  },
  {
   "cell_type": "code",
   "execution_count": 17,
   "metadata": {},
   "outputs": [],
   "source": [
    "import pandas as pd\n",
    "import numpy as np\n",
    "\n",
    "df = pd.read_csv(\"../data/master_data_by_category.csv\")"
   ]
  },
  {
   "cell_type": "code",
   "execution_count": 18,
   "metadata": {},
   "outputs": [],
   "source": [
    "# 1. long format으로 변환\n",
    "years = [str(y) for y in range(2013, 2023)]\n",
    "df_long = df.melt(id_vars=['Country', 'category'],\n",
    "                  value_vars=years,\n",
    "                  var_name='Year',\n",
    "                  value_name='Value')\n",
    "df_long['Year'] = df_long['Year'].astype(int)\n",
    "\n",
    "# 2. wide format: 인덱스 = (Country, Year), 컬럼 = category\n",
    "panel_df = df_long.pivot(index=['Country', 'Year'], columns='category', values='Value')\n",
    "panel_df.sort_index(level=['Country', 'Year'], inplace=True)"
   ]
  },
  {
   "cell_type": "markdown",
   "metadata": {},
   "source": [
    "## 고정 효과 모델"
   ]
  },
  {
   "cell_type": "code",
   "execution_count": 19,
   "metadata": {},
   "outputs": [
    {
     "name": "stdout",
     "output_type": "stream",
     "text": [
      "\n",
      "=== Fixed Effects Model ===\n",
      "                          PanelOLS Estimation Summary                           \n",
      "================================================================================\n",
      "Dep. Variable:                    GDP   R-squared:                        0.4871\n",
      "Estimator:                   PanelOLS   R-squared (Between):             -0.3811\n",
      "No. Observations:                  70   R-squared (Within):               0.4871\n",
      "Date:                Tue, Mar 11 2025   R-squared (Overall):             -0.3393\n",
      "Time:                        22:01:24   Log-likelihood                   -2037.1\n",
      "Cov. Estimator:             Clustered                                           \n",
      "                                        F-statistic:                      18.996\n",
      "Entities:                           7   P-value                           0.0000\n",
      "Avg Obs:                      10.0000   Distribution:                    F(3,60)\n",
      "Min Obs:                      10.0000                                           \n",
      "Max Obs:                      10.0000   F-statistic (robust):             3.8199\n",
      "                                        P-value                           0.0143\n",
      "Time periods:                      10   Distribution:                    F(3,60)\n",
      "Avg Obs:                       7.0000                                           \n",
      "Min Obs:                       7.0000                                           \n",
      "Max Obs:                       7.0000                                           \n",
      "                                                                                \n",
      "                               Parameter Estimates                               \n",
      "=================================================================================\n",
      "               Parameter  Std. Err.     T-stat    P-value    Lower CI    Upper CI\n",
      "---------------------------------------------------------------------------------\n",
      "const         -8.096e+12  9.988e+12    -0.8106     0.4208  -2.807e+13   1.188e+13\n",
      "Corporate Tax -1.326e+11  7.096e+10    -1.8680     0.0666  -2.745e+11   9.384e+09\n",
      "GERD           2.403e+12  1.272e+12     1.8891     0.0637  -1.414e+11   4.946e+12\n",
      "Institutions    1.49e+11  9.032e+10     1.6495     0.1043  -3.168e+10   3.296e+11\n",
      "=================================================================================\n",
      "\n",
      "F-test for Poolability: 372.32\n",
      "P-value: 0.0000\n",
      "Distribution: F(6,60)\n",
      "\n",
      "Included effects: Entity\n"
     ]
    }
   ],
   "source": [
    "import statsmodels.api as sm\n",
    "from linearmodels.panel import PanelOLS\n",
    "\n",
    "fe_df = panel_df[['GDP', 'Corporate Tax', 'GERD', 'Institutions']].dropna()\n",
    "exog_vars = ['Corporate Tax', 'GERD', 'Institutions']\n",
    "\n",
    "# 상수항\n",
    "X = fe_df[exog_vars]\n",
    "X = sm.add_constant(X)\n",
    "y = fe_df['GDP']\n",
    "\n",
    "# 패널 구조: index = (Country, Year)\n",
    "fe_df = fe_df.reset_index()\n",
    "fe_df = fe_df.set_index(['Country', 'Year'])\n",
    "\n",
    "fe_model = PanelOLS(y, X, entity_effects=True)\n",
    "fe_res = fe_model.fit(cov_type='clustered', cluster_entity=True)\n",
    "print(\"\\n=== Fixed Effects Model ===\")\n",
    "print(fe_res.summary)"
   ]
  },
  {
   "cell_type": "markdown",
   "metadata": {},
   "source": [
    "## 랜덤효과 모델 + Hausman 모델"
   ]
  },
  {
   "cell_type": "code",
   "execution_count": 20,
   "metadata": {},
   "outputs": [
    {
     "name": "stdout",
     "output_type": "stream",
     "text": [
      "\n",
      "=== Random Effects Model ===\n",
      "                        RandomEffects Estimation Summary                        \n",
      "================================================================================\n",
      "Dep. Variable:                    GDP   R-squared:                        0.4623\n",
      "Estimator:              RandomEffects   R-squared (Between):             -0.3710\n",
      "No. Observations:                  70   R-squared (Within):               0.4870\n",
      "Date:                Tue, Mar 11 2025   R-squared (Overall):             -0.3297\n",
      "Time:                        22:01:24   Log-likelihood                   -2039.8\n",
      "Cov. Estimator:            Unadjusted                                           \n",
      "                                        F-statistic:                      18.918\n",
      "Entities:                           7   P-value                           0.0000\n",
      "Avg Obs:                      10.0000   Distribution:                    F(3,66)\n",
      "Min Obs:                      10.0000                                           \n",
      "Max Obs:                      10.0000   F-statistic (robust):             18.918\n",
      "                                        P-value                           0.0000\n",
      "Time periods:                      10   Distribution:                    F(3,66)\n",
      "Avg Obs:                       7.0000                                           \n",
      "Min Obs:                       7.0000                                           \n",
      "Max Obs:                       7.0000                                           \n",
      "                                                                                \n",
      "                               Parameter Estimates                               \n",
      "=================================================================================\n",
      "               Parameter  Std. Err.     T-stat    P-value    Lower CI    Upper CI\n",
      "---------------------------------------------------------------------------------\n",
      "const         -7.689e+12  5.052e+12    -1.5221     0.1328  -1.778e+13   2.397e+12\n",
      "Corporate Tax -1.327e+11  4.136e+10    -3.2081     0.0021  -2.153e+11  -5.011e+10\n",
      "GERD           2.349e+12  5.252e+11     4.4722     0.0000     1.3e+12   3.397e+12\n",
      "Institutions   1.459e+11  3.645e+10     4.0037     0.0002   7.316e+10   2.187e+11\n",
      "=================================================================================\n"
     ]
    }
   ],
   "source": [
    "from linearmodels.panel import RandomEffects\n",
    "from linearmodels.panel import compare\n",
    "\n",
    "# 랜덤효과 모델\n",
    "re_model = RandomEffects(y, X)\n",
    "re_res = re_model.fit()\n",
    "print(\"\\n=== Random Effects Model ===\")\n",
    "print(re_res.summary)"
   ]
  },
  {
   "cell_type": "code",
   "execution_count": 21,
   "metadata": {},
   "outputs": [
    {
     "name": "stdout",
     "output_type": "stream",
     "text": [
      "\n",
      "=== Hausman Test (compare FE vs RE) ===\n",
      "                    Model Comparison                    \n",
      "========================================================\n",
      "                                    FE                RE\n",
      "--------------------------------------------------------\n",
      "Dep. Variable                      GDP               GDP\n",
      "Estimator                     PanelOLS     RandomEffects\n",
      "No. Observations                    70                70\n",
      "Cov. Est.                    Clustered        Unadjusted\n",
      "R-squared                       0.4871            0.4623\n",
      "R-Squared (Within)              0.4871            0.4870\n",
      "R-Squared (Between)            -0.3811           -0.3710\n",
      "R-Squared (Overall)            -0.3393           -0.3297\n",
      "F-statistic                     18.996            18.918\n",
      "P-value (F-stat)                0.0000            0.0000\n",
      "=====================     ============   ===============\n",
      "const                       -8.096e+12        -7.689e+12\n",
      "                             (-0.8106)         (-1.5221)\n",
      "Corporate Tax               -1.326e+11        -1.327e+11\n",
      "                             (-1.8680)         (-3.2081)\n",
      "GERD                         2.403e+12         2.349e+12\n",
      "                              (1.8891)          (4.4722)\n",
      "Institutions                  1.49e+11         1.459e+11\n",
      "                              (1.6495)          (4.0037)\n",
      "======================= ============== =================\n",
      "Effects                         Entity                  \n",
      "--------------------------------------------------------\n",
      "\n",
      "T-stats reported in parentheses\n"
     ]
    }
   ],
   "source": [
    "# Hausman 테스트: 고정효과 vs 랜덤효과 중 어느 쪽이 일관적인지 판단\n",
    "# linearmodels.panel.compare 함수 사용\n",
    "comp = compare({'FE': fe_res, 'RE': re_res})\n",
    "print(\"\\n=== Hausman Test (compare FE vs RE) ===\")\n",
    "print(comp)"
   ]
  },
  {
   "cell_type": "markdown",
   "metadata": {},
   "source": [
    "## 동태적 패널데이터 분석(첫 차분 변환)"
   ]
  },
  {
   "cell_type": "code",
   "execution_count": 25,
   "metadata": {},
   "outputs": [
    {
     "name": "stdout",
     "output_type": "stream",
     "text": [
      "패널 데이터 형태: (70, 4)\n",
      "category               GDP  Corporate Tax    GERD  Institutions\n",
      "Country Year                                                   \n",
      "China   2013  9.570470e+12           25.0  1.9979          48.3\n",
      "        2014  1.047560e+13           25.0  2.0224          48.3\n",
      "        2015  1.106160e+13           25.0  2.0570          54.0\n",
      "        2016  1.123330e+13           25.0  2.1003          55.2\n",
      "        2017  1.231050e+13           25.0  2.1160          54.8\n"
     ]
    }
   ],
   "source": [
    "# 각 카테고리별 데이터를 pivot하여 Country별로 wide 형식\n",
    "categories_to_use = ['GDP', 'Corporate Tax', 'GERD', 'Institutions']\n",
    "dfs_list = []\n",
    "for cat in categories_to_use:\n",
    "    temp = df_long[df_long['category'] == cat].copy()\n",
    "    temp = temp.pivot(index=['Country', 'Year'], columns='category', values='Value')\n",
    "    dfs_list.append(temp)\n",
    "\n",
    "# Country, Year 기준으로 merge (outer join)\n",
    "panel_df = dfs_list[0]\n",
    "for df_temp in dfs_list[1:]:\n",
    "    panel_df = panel_df.merge(df_temp, on=['Country', 'Year'], how='outer')\n",
    "\n",
    "# 확인\n",
    "print(\"패널 데이터 형태:\", panel_df.shape)\n",
    "print(panel_df.head())"
   ]
  },
  {
   "cell_type": "markdown",
   "metadata": {},
   "source": [
    "### 2. 동태적 패널 데이터 분석을 위한 첫차분 변환\n",
    "#### 2-1. GDP의 1시차 항 생성"
   ]
  },
  {
   "cell_type": "code",
   "execution_count": 26,
   "metadata": {},
   "outputs": [
    {
     "name": "stdout",
     "output_type": "stream",
     "text": [
      "첫차분 데이터 형태: (56, 10)\n",
      "category               GDP  Corporate Tax    GERD  Institutions       GDP_lag  \\\n",
      "Country Year                                                                    \n",
      "China   2015  1.106160e+13           25.0  2.0570          54.0  1.047560e+13   \n",
      "        2016  1.123330e+13           25.0  2.1003          55.2  1.106160e+13   \n",
      "        2017  1.231050e+13           25.0  2.1160          54.8  1.123330e+13   \n",
      "        2018  1.389490e+13           25.0  2.1406          59.4  1.231050e+13   \n",
      "        2019  1.428000e+13           25.0  2.2446          64.1  1.389490e+13   \n",
      "\n",
      "category          diff_GDP  diff_GDP_lag  diff_Corporate Tax  diff_GERD  \\\n",
      "Country Year                                                              \n",
      "China   2015  5.860000e+11  9.051300e+11                 0.0     0.0346   \n",
      "        2016  1.717000e+11  5.860000e+11                 0.0     0.0433   \n",
      "        2017  1.077200e+12  1.717000e+11                 0.0     0.0157   \n",
      "        2018  1.584400e+12  1.077200e+12                 0.0     0.0246   \n",
      "        2019  3.851000e+11  1.584400e+12                 0.0     0.1040   \n",
      "\n",
      "category      diff_Institutions  \n",
      "Country Year                     \n",
      "China   2015                5.7  \n",
      "        2016                1.2  \n",
      "        2017               -0.4  \n",
      "        2018                4.6  \n",
      "        2019                4.7  \n"
     ]
    }
   ],
   "source": [
    "panel_df = panel_df.sort_index(level=['Country', 'Year'])\n",
    "panel_df['GDP_lag'] = panel_df.groupby(level='Country')['GDP'].shift(1)\n",
    "\n",
    "# 첫차분 계산: 각 변수의 변화량(diff)\n",
    "diff_vars = ['GDP', 'GDP_lag', 'Corporate Tax', 'GERD', 'Institutions']\n",
    "for var in diff_vars:\n",
    "    panel_df[f'diff_{var}'] = panel_df.groupby(level='Country')[var].diff()\n",
    "\n",
    "# 2-3. 각 국가의 첫 해(차분 불가) 제거 -> 첫차분 데이터를 사용하기 위함\n",
    "df_diff = panel_df.dropna(subset=[f'diff_{var}' for var in diff_vars]).copy()\n",
    "print(\"첫차분 데이터 형태:\", df_diff.shape)\n",
    "print(df_diff.head())"
   ]
  },
  {
   "cell_type": "markdown",
   "metadata": {},
   "source": [
    "### 3. OLS를 사용한 첫차분 회귀 분석 (Dynamic Panel via First-Difference OLS)\n",
    "#### 종속변수: diff_GDP, 독립변수: diff_GDP_lag, diff_Corporate Tax, diff_GERD, diff_Institutions"
   ]
  },
  {
   "cell_type": "code",
   "execution_count": 27,
   "metadata": {},
   "outputs": [
    {
     "name": "stdout",
     "output_type": "stream",
     "text": [
      "\n",
      "=== First-Difference OLS Regression Results ===\n",
      "                            OLS Regression Results                            \n",
      "==============================================================================\n",
      "Dep. Variable:               diff_GDP   R-squared:                       0.122\n",
      "Model:                            OLS   Adj. R-squared:                  0.054\n",
      "Method:                 Least Squares   F-statistic:                     1.778\n",
      "Date:                Tue, 11 Mar 2025   Prob (F-statistic):              0.148\n",
      "Time:                        22:08:20   Log-Likelihood:                -1602.3\n",
      "No. Observations:                  56   AIC:                             3215.\n",
      "Df Residuals:                      51   BIC:                             3225.\n",
      "Df Model:                           4                                         \n",
      "Covariance Type:            nonrobust                                         \n",
      "======================================================================================\n",
      "                         coef    std err          t      P>|t|      [0.025      0.975]\n",
      "--------------------------------------------------------------------------------------\n",
      "const               2.006e+11   1.11e+11      1.799      0.078   -2.32e+10    4.24e+11\n",
      "diff_GDP_lag           0.3650      0.149      2.444      0.018       0.065       0.665\n",
      "diff_Corporate Tax   -1.4e+10   3.32e+10     -0.422      0.675   -8.06e+10    5.26e+10\n",
      "diff_GERD          -4.566e+11   8.97e+11     -0.509      0.613   -2.26e+12    1.34e+12\n",
      "diff_Institutions   2.178e+10    2.6e+10      0.838      0.406   -3.04e+10     7.4e+10\n",
      "==============================================================================\n",
      "Omnibus:                       44.673   Durbin-Watson:                   1.837\n",
      "Prob(Omnibus):                  0.000   Jarque-Bera (JB):              160.258\n",
      "Skew:                           2.253   Prob(JB):                     1.59e-35\n",
      "Kurtosis:                       9.955   Cond. No.                     6.82e+12\n",
      "==============================================================================\n",
      "\n",
      "Notes:\n",
      "[1] Standard Errors assume that the covariance matrix of the errors is correctly specified.\n",
      "[2] The condition number is large, 6.82e+12. This might indicate that there are\n",
      "strong multicollinearity or other numerical problems.\n"
     ]
    }
   ],
   "source": [
    "y_diff = df_diff['diff_GDP']\n",
    "X_diff = df_diff[['diff_GDP_lag', 'diff_Corporate Tax', 'diff_GERD', 'diff_Institutions']]\n",
    "X_diff = sm.add_constant(X_diff)\n",
    "model_diff = sm.OLS(y_diff, X_diff).fit()\n",
    "print(\"\\n=== First-Difference OLS Regression Results ===\")\n",
    "print(model_diff.summary())"
   ]
  },
  {
   "cell_type": "code",
   "execution_count": null,
   "metadata": {},
   "outputs": [],
   "source": []
  }
 ],
 "metadata": {
  "kernelspec": {
   "display_name": ".venv",
   "language": "python",
   "name": "python3"
  },
  "language_info": {
   "codemirror_mode": {
    "name": "ipython",
    "version": 3
   },
   "file_extension": ".py",
   "mimetype": "text/x-python",
   "name": "python",
   "nbconvert_exporter": "python",
   "pygments_lexer": "ipython3",
   "version": "3.11.2"
  }
 },
 "nbformat": 4,
 "nbformat_minor": 2
}
