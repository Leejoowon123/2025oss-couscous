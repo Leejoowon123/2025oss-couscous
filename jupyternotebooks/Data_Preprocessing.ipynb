{
 "cells": [
  {
   "cell_type": "markdown",
   "metadata": {},
   "source": [
    "# Data preprocessing and integration"
   ]
  },
  {
   "cell_type": "markdown",
   "metadata": {},
   "source": [
    "## Data confirm"
   ]
  },
  {
   "cell_type": "code",
   "execution_count": 46,
   "metadata": {},
   "outputs": [],
   "source": [
    "import pandas as pd\n",
    "import numpy as np\n",
    "import matplotlib.pyplot as plt\n",
    "import seaborn as sns\n",
    "from functools import reduce"
   ]
  },
  {
   "cell_type": "code",
   "execution_count": 47,
   "metadata": {},
   "outputs": [],
   "source": [
    "data_dir = \"../data/\""
   ]
  },
  {
   "cell_type": "code",
   "execution_count": 48,
   "metadata": {},
   "outputs": [],
   "source": [
    "tax_df = pd.read_csv(data_dir + \"OECD_PWC_corporate_tax_rates_2013_2022.csv\")\n",
    "gerd_df = pd.read_csv(data_dir + \"Unesco_GERD as per percentage of GDP.csv\")\n",
    "gii_df = pd.read_csv(data_dir + \"WIPO_GII_paneldata.csv\")\n",
    "patent_df = pd.read_csv(data_dir + \"WIPO_Patent publications for AI-related technology.csv\")\n",
    "wipo_tax_df = pd.read_csv(data_dir + \"WIPO_Tax.csv\")\n",
    "gdp_df = pd.read_csv(data_dir + \"WorldBank_GDP.csv\")\n",
    "revenue_df = pd.read_csv(data_dir + \"WorldBank_General Revenue.csv\")\n",
    "internet_df = pd.read_csv(data_dir + \"WorldBank_Individuals using the Internet (of population).csv\")\n",
    "unemployment_df = pd.read_csv(data_dir + \"WorldBank_Unemployment_Rate.csv\")"
   ]
  },
  {
   "cell_type": "code",
   "execution_count": 49,
   "metadata": {},
   "outputs": [
    {
     "data": {
      "text/plain": [
       "Index(['연도', '한국', '일본', '중국', '독일', '영국', '미국', '프랑스'], dtype='object')"
      ]
     },
     "execution_count": 49,
     "metadata": {},
     "output_type": "execute_result"
    }
   ],
   "source": [
    "tax_df.columns"
   ]
  },
  {
   "cell_type": "code",
   "execution_count": 50,
   "metadata": {},
   "outputs": [
    {
     "data": {
      "text/plain": [
       "Index(['Country', 'year', 'value'], dtype='object')"
      ]
     },
     "execution_count": 50,
     "metadata": {},
     "output_type": "execute_result"
    }
   ],
   "source": [
    "gerd_df.columns"
   ]
  },
  {
   "cell_type": "code",
   "execution_count": 51,
   "metadata": {},
   "outputs": [
    {
     "data": {
      "text/plain": [
       "Index(['Economies', 'Year', 'Institutions', 'Human capital and research',\n",
       "       'Infrastructure', 'Market sophistication', 'Business sophistication',\n",
       "       'Knowledge and technology outputs', 'Creative outputs',\n",
       "       'Global Innovation Index', 'GNI per capita in current U.S. dollars ',\n",
       "       'GDP per capita ppp (current international $)'],\n",
       "      dtype='object')"
      ]
     },
     "execution_count": 51,
     "metadata": {},
     "output_type": "execute_result"
    }
   ],
   "source": [
    "gii_df.columns"
   ]
  },
  {
   "cell_type": "code",
   "execution_count": 52,
   "metadata": {},
   "outputs": [
    {
     "data": {
      "text/plain": [
       "Index(['Office', '2013', '2014', '2015', '2016', '2017', '2018', '2019',\n",
       "       '2020', '2021', '2022'],\n",
       "      dtype='object')"
      ]
     },
     "execution_count": 52,
     "metadata": {},
     "output_type": "execute_result"
    }
   ],
   "source": [
    "patent_df.columns"
   ]
  },
  {
   "cell_type": "code",
   "execution_count": 53,
   "metadata": {},
   "outputs": [
    {
     "data": {
      "text/plain": [
       "Index(['Reference area', 'TIME_PERIOD', 'OBS_VALUE'], dtype='object')"
      ]
     },
     "execution_count": 53,
     "metadata": {},
     "output_type": "execute_result"
    }
   ],
   "source": [
    "wipo_tax_df.columns"
   ]
  },
  {
   "cell_type": "code",
   "execution_count": 54,
   "metadata": {},
   "outputs": [
    {
     "data": {
      "text/plain": [
       "Index(['Country Name', '2013', '2014', '2015', '2016', '2017', '2018', '2019',\n",
       "       '2020', '2021', '2022'],\n",
       "      dtype='object')"
      ]
     },
     "execution_count": 54,
     "metadata": {},
     "output_type": "execute_result"
    }
   ],
   "source": [
    "gdp_df.columns"
   ]
  },
  {
   "cell_type": "code",
   "execution_count": 55,
   "metadata": {},
   "outputs": [
    {
     "data": {
      "text/plain": [
       "Index(['Country Name', '2013', '2014', '2015', '2016', '2017', '2018', '2019',\n",
       "       '2020', '2021', '2022'],\n",
       "      dtype='object')"
      ]
     },
     "execution_count": 55,
     "metadata": {},
     "output_type": "execute_result"
    }
   ],
   "source": [
    "revenue_df.columns"
   ]
  },
  {
   "cell_type": "code",
   "execution_count": 56,
   "metadata": {},
   "outputs": [
    {
     "data": {
      "text/plain": [
       "Index(['Country Name', '2013', '2014', '2015', '2016', '2017', '2018', '2019',\n",
       "       '2020', '2021', '2022'],\n",
       "      dtype='object')"
      ]
     },
     "execution_count": 56,
     "metadata": {},
     "output_type": "execute_result"
    }
   ],
   "source": [
    "internet_df.columns"
   ]
  },
  {
   "cell_type": "code",
   "execution_count": 57,
   "metadata": {},
   "outputs": [
    {
     "data": {
      "text/plain": [
       "Index(['Country Name', '2013', '2014', '2015', '2016', '2017', '2018', '2019',\n",
       "       '2020', '2021', '2022'],\n",
       "      dtype='object')"
      ]
     },
     "execution_count": 57,
     "metadata": {},
     "output_type": "execute_result"
    }
   ],
   "source": [
    "unemployment_df.columns"
   ]
  },
  {
   "cell_type": "code",
   "execution_count": 58,
   "metadata": {},
   "outputs": [],
   "source": [
    "# 국가명 통일을 위한 매핑\n",
    "country_mapping = {\n",
    "    '한국': 'Korea',\n",
    "    '일본': 'Japan',\n",
    "    '중국': 'China',\n",
    "    '독일': 'Germany',\n",
    "    '영국': 'United Kingdom',\n",
    "    '미국': 'United States of America',\n",
    "    '프랑스': 'France',\n",
    "    'Korea, Rep.': 'Korea',\n",
    "    'United States': 'United States of America'\n",
    "}"
   ]
  },
  {
   "cell_type": "markdown",
   "metadata": {},
   "source": [
    "## long format 데이터를 pivot하여 원하는 형식으로 변환"
   ]
  },
  {
   "cell_type": "code",
   "execution_count": 59,
   "metadata": {},
   "outputs": [],
   "source": [
    "tax_df.rename(columns={'연도': 'Year'}, inplace=True)\n",
    "tax_long = tax_df.melt(id_vars=['Year'], var_name='Country', value_name='Corporate_Tax')\n",
    "tax_long['Country'] = tax_long['Country'].map(country_mapping)\n",
    "tax_long['Year'] = tax_long['Year'].astype(int)\n",
    "\n",
    "def pivot_wide(df, value_col, category_label):\n",
    "    pivot_df = df.pivot(index='Country', columns='Year', values=value_col)\n",
    "    pivot_df.reset_index(inplace=True)\n",
    "    pivot_df.insert(1, 'category', category_label)\n",
    "    year_cols = [year for year in range(2013, 2023) if year in pivot_df.columns]\n",
    "    pivot_df = pivot_df[['Country', 'category'] + year_cols]\n",
    "    return pivot_df\n",
    "\n",
    "tax_wide = pivot_wide(tax_long, 'Corporate_Tax', 'Corporate Tax')"
   ]
  },
  {
   "cell_type": "code",
   "execution_count": 60,
   "metadata": {},
   "outputs": [
    {
     "name": "stdout",
     "output_type": "stream",
     "text": [
      "['China' 'France' 'Germany' 'Japan' 'Korea' 'United Kingdom'\n",
      " 'United States of America']\n",
      "Year                   Country       category   2013   2014   2015   2016  \\\n",
      "0                        China  Corporate Tax  25.0%  25.0%  25.0%  25.0%   \n",
      "1                       France  Corporate Tax  38.0%  38.0%  38.0%  34.4%   \n",
      "2                      Germany  Corporate Tax  29.6%  29.7%  29.8%  29.8%   \n",
      "3                        Japan  Corporate Tax  37.0%  34.6%  32.1%  30.0%   \n",
      "4                        Korea  Corporate Tax  24.2%  24.2%  24.2%  24.2%   \n",
      "5               United Kingdom  Corporate Tax  23.0%  21.0%  20.0%  20.0%   \n",
      "6     United States of America  Corporate Tax  39.0%  39.1%  39.0%  38.9%   \n",
      "\n",
      "Year   2017   2018   2019   2020   2021   2022  \n",
      "0     25.0%  25.0%  25.0%  25.0%  25.0%  25.0%  \n",
      "1     44.4%  34.4%  34.4%  32.0%  28.4%  25.8%  \n",
      "2     29.9%  29.9%  29.9%  29.8%  29.9%  29.9%  \n",
      "3     30.0%  29.7%  29.7%  29.7%  29.7%  29.7%  \n",
      "4     24.2%  27.5%  27.5%  27.5%  27.5%  27.5%  \n",
      "5     19.0%  19.0%  19.0%  19.0%  19.0%  19.0%  \n",
      "6     38.9%  25.8%  25.9%  25.8%  25.8%  25.8%  \n"
     ]
    }
   ],
   "source": [
    "print(tax_wide['Country'].unique())\n",
    "print(tax_wide)"
   ]
  },
  {
   "cell_type": "markdown",
   "metadata": {},
   "source": [
    "## 데이터셋 전처리 후 pivot"
   ]
  },
  {
   "cell_type": "code",
   "execution_count": 61,
   "metadata": {},
   "outputs": [
    {
     "name": "stdout",
     "output_type": "stream",
     "text": [
      "['China' 'France' 'Germany' 'Japan' 'Korea' 'United Kingdom'\n",
      " 'United States of America']\n",
      "Year                   Country category     2013     2014     2015     2016  \\\n",
      "0                        China     GERD  1.99786  2.02243  2.05701  2.10033   \n",
      "1                       France     GERD  2.23703  2.27592  2.22702  2.22238   \n",
      "2                      Germany     GERD  2.83599  2.87784  2.93379  2.94039   \n",
      "3                        Japan     GERD  3.27896  3.36788  3.24071  3.10666   \n",
      "4                        Korea     GERD  3.95124  4.07786  3.97820  3.98704   \n",
      "5               United Kingdom     GERD  1.62096  2.26488  2.27566  2.32052   \n",
      "6     United States of America     GERD  2.69592  2.70881  2.77328  2.83676   \n",
      "\n",
      "Year     2017     2018     2019     2020     2021     2022  \n",
      "0     2.11603  2.14058  2.24463  2.40666  2.43260  2.55518  \n",
      "1     2.19888  2.19666  2.19179  2.27464  2.21808  2.23312  \n",
      "2     3.04710  3.11011  3.16701  3.13136  3.12882  3.13236  \n",
      "3     3.16636  3.21920  3.21824  3.26458  3.27677  3.40537  \n",
      "4     4.29206  4.51633  4.62703  4.79571  4.90988  5.21081  \n",
      "5     2.32602  2.71124  2.67080  2.93883  2.89711  2.85831  \n",
      "6     2.88357  2.99045  3.14704  3.42467  3.48313  3.58623  \n"
     ]
    }
   ],
   "source": [
    "# 2. Unesco_GERD as per percentage of GDP.csv (gerd_df)\n",
    "gerd_df = pd.read_csv(data_dir + \"Unesco_GERD as per percentage of GDP.csv\")\n",
    "gerd_df.rename(columns={'year': 'Year', 'value': 'GERD'}, inplace=True)\n",
    "gerd_df['Year'] = gerd_df['Year'].astype(int)\n",
    "gerd_df['Country'] = gerd_df['Country'].replace({'United State of America': 'United States of America'})\n",
    "gerd_wide = pivot_wide(gerd_df, 'GERD', 'GERD')\n",
    "\n",
    "print(gerd_wide['Country'].unique())\n",
    "print(gerd_wide)"
   ]
  },
  {
   "cell_type": "code",
   "execution_count": 62,
   "metadata": {},
   "outputs": [
    {
     "name": "stdout",
     "output_type": "stream",
     "text": [
      "['China' 'France' 'Germany' 'Japan' 'Korea' 'United Kingdom'\n",
      " 'United States of America']\n",
      "Year                   Country            category         2013         2014  \\\n",
      "0                        China        Institutions     48.30000     48.30000   \n",
      "1                       France        Institutions     79.00000     78.60000   \n",
      "2                      Germany        Institutions     82.50000     82.70000   \n",
      "3                        Japan        Institutions     83.50000     84.10000   \n",
      "4                        Korea        Institutions     76.00000     75.80000   \n",
      "..                         ...                 ...          ...          ...   \n",
      "65                     Germany  GDP_per_capita_PPP  44993.89275  47011.55109   \n",
      "66                       Japan  GDP_per_capita_PPP  39402.02510  39555.41201   \n",
      "67                       Korea  GDP_per_capita_PPP  34244.31214  35324.49767   \n",
      "68              United Kingdom  GDP_per_capita_PPP  40218.74726  41580.60249   \n",
      "69    United States of America  GDP_per_capita_PPP  53291.12769  55123.84979   \n",
      "\n",
      "Year         2015         2016         2017         2018         2019  \\\n",
      "0        54.00000     55.20000     54.80000     59.40000     64.10000   \n",
      "1        81.70000     80.40000     80.70000     81.20000     83.20000   \n",
      "2        83.20000     84.10000     83.50000     85.90000     86.40000   \n",
      "3        86.50000     87.10000     87.40000     89.80000     89.90000   \n",
      "4        76.20000     75.40000     74.50000     78.50000     79.70000   \n",
      "..            ...          ...          ...          ...          ...   \n",
      "65    47609.78100  50579.68393  53071.45557  55235.36630  55652.88749   \n",
      "66    40898.80697  40596.96866  41444.21574  42116.47435  42282.55089   \n",
      "67    37902.40040  39575.45428  40957.41806  43044.29176  42998.38824   \n",
      "68    42912.87509  44635.29956  46372.38660  47573.48802  49041.46355   \n",
      "69    56762.72945  57866.74493  59914.77780  62805.25376  65094.79943   \n",
      "\n",
      "Year         2020         2021         2022  \n",
      "0        64.60000     64.40000     64.80000  \n",
      "1        83.70000     83.40000     77.00000  \n",
      "2        84.60000     84.30000     76.50000  \n",
      "3        89.30000     88.80000     75.80000  \n",
      "4        78.40000     79.50000     70.50000  \n",
      "..            ...          ...          ...  \n",
      "65    54844.54597  57927.59007  56386.06802  \n",
      "66    42100.25769  42940.40525  42191.40429  \n",
      "67    45225.84454  46918.47482  44112.11639  \n",
      "68    46526.91187  49675.30467  49358.38411  \n",
      "69    63027.67953  69287.53659  67191.16801  \n",
      "\n",
      "[70 rows x 12 columns]\n"
     ]
    }
   ],
   "source": [
    "# 3. WIPO_GII_paneldata.csv (gii_df)\n",
    "gii_df = pd.read_csv(data_dir + \"WIPO_GII_paneldata.csv\")\n",
    "gii_df.rename(columns={\n",
    "    'Economies': 'Country',\n",
    "    'GNI per capita in current U.S. dollars ': 'GNI_per_capita',\n",
    "    'GDP per capita ppp (current international $)': 'GDP_per_capita_PPP'\n",
    "}, inplace=True)\n",
    "gii_df['Year'] = gii_df['Year'].astype(int)\n",
    "gii_indicators = ['Institutions', 'Human capital and research', 'Infrastructure', \n",
    "                  'Market sophistication', 'Business sophistication', \n",
    "                  'Knowledge and technology outputs', 'Creative outputs', \n",
    "                  'Global Innovation Index', 'GNI_per_capita', 'GDP_per_capita_PPP']\n",
    "gii_wide_list = []\n",
    "for indicator in gii_indicators:\n",
    "    temp = gii_df[['Country', 'Year', indicator]].copy()\n",
    "    temp.rename(columns={indicator: 'Value'}, inplace=True)\n",
    "    temp_wide = pivot_wide(temp, 'Value', indicator)\n",
    "    gii_wide_list.append(temp_wide)\n",
    "gii_wide = pd.concat(gii_wide_list, axis=0, ignore_index=True)\n",
    "\n",
    "print(gii_wide['Country'].unique())\n",
    "print(gii_wide)"
   ]
  },
  {
   "cell_type": "code",
   "execution_count": 63,
   "metadata": {},
   "outputs": [
    {
     "name": "stdout",
     "output_type": "stream",
     "text": [
      "['China' 'France' 'Germany' 'Japan' 'Korea' 'United Kingdom'\n",
      " 'United States of America']\n",
      "Year                   Country             category   2013   2014   2015  \\\n",
      "0                        China  Patent Publications  10367  12334  14812   \n",
      "1                       France  Patent Publications    155    181    192   \n",
      "2                      Germany  Patent Publications    346    379    519   \n",
      "3                        Japan  Patent Publications   9131   8797   9171   \n",
      "4                        Korea  Patent Publications   4601   5847   5922   \n",
      "5               United Kingdom  Patent Publications    253    309    229   \n",
      "6     United States of America  Patent Publications  17768  20943  22825   \n",
      "\n",
      "Year   2016   2017   2018   2019   2020   2021   2022  \n",
      "0     16214  20372  19480  19598  20073  22475  23598  \n",
      "1       243    217    196    227    202    181    159  \n",
      "2       575    525    548    473    501    448    434  \n",
      "3      8542   8852   6998   6982   6807   6117   5218  \n",
      "4      5548   5268   4213   3965   4289   4593   5062  \n",
      "5       210    286    251    190    229    205    250  \n",
      "6     24810  24282  22941  23911  23034  21218  19610  \n"
     ]
    }
   ],
   "source": [
    "# 4. WIPO_Patent publications for AI-related technology.csv (patent_df)\n",
    "\n",
    "patent_df = pd.read_csv(data_dir + \"WIPO_Patent publications for AI-related technology.csv\")\n",
    "patent_df.rename(columns={'Office': 'Country'}, inplace=True)\n",
    "patent_long = patent_df.melt(id_vars=['Country'], var_name='Year', value_name='Patent_Publications')\n",
    "patent_long['Country'] = patent_long['Country'].replace({'Republic of Korea': 'Korea'})\n",
    "patent_long['Year'] = patent_long['Year'].astype(int)\n",
    "patent_wide = pivot_wide(patent_long, 'Patent_Publications', 'Patent Publications')\n",
    "print(patent_wide['Country'].unique())\n",
    "print(patent_wide)"
   ]
  },
  {
   "cell_type": "code",
   "execution_count": 64,
   "metadata": {},
   "outputs": [
    {
     "name": "stdout",
     "output_type": "stream",
     "text": [
      "['China' 'France' 'Germany' 'Japan' 'Korea' 'United Kingdom'\n",
      " 'United States of America']\n",
      "Year                   Country  category    2013    2014    2015    2016  \\\n",
      "0                        China  WIPO Tax  18.640  18.518  18.135  17.464   \n",
      "1                       France  WIPO Tax  45.329  45.406  45.363  45.397   \n",
      "2                      Germany  WIPO Tax  37.675  37.614  38.052  38.518   \n",
      "3                        Japan  WIPO Tax  28.557  29.973  30.242  30.279   \n",
      "4                        Korea  WIPO Tax  23.143  23.381  23.737  24.745   \n",
      "5               United Kingdom  WIPO Tax  32.007  31.693  31.907  32.450   \n",
      "6     United States of America  WIPO Tax  25.413  25.786  26.087  25.713   \n",
      "\n",
      "Year    2017    2018    2019    2020    2021    2022  \n",
      "0     17.351  17.014  22.089  20.077  21.040  20.050  \n",
      "1     46.239  46.022  45.024  45.239  45.059  45.774  \n",
      "2     38.528  39.196  39.326  38.652  39.781  39.647  \n",
      "3     30.916  31.548  31.507  32.909  33.883  34.441  \n",
      "4     25.357  26.686  27.227  27.745  29.761  31.976  \n",
      "5     32.733  32.768  32.490  32.812  34.227  35.420  \n",
      "6     26.459  24.816  24.982  25.570  26.709  27.607  \n"
     ]
    }
   ],
   "source": [
    "# 5. WIPO_Tax.csv (wipo_tax_df)\n",
    "wipo_tax_df = pd.read_csv(data_dir + \"WIPO_Tax.csv\")\n",
    "wipo_tax_df.rename(columns={'Reference area': 'Country', 'TIME_PERIOD': 'Year', 'OBS_VALUE': 'WIPO_Tax'}, inplace=True)\n",
    "wipo_tax_df['Year'] = wipo_tax_df['Year'].astype(int)\n",
    "wipo_tax_df['Country'] = wipo_tax_df['Country'].replace({'United States': 'United States of America'})\n",
    "wipo_tax_wide = pivot_wide(wipo_tax_df, 'WIPO_Tax', 'WIPO Tax')\n",
    "\n",
    "print(wipo_tax_wide['Country'].unique())\n",
    "print(wipo_tax_wide)"
   ]
  },
  {
   "cell_type": "code",
   "execution_count": 65,
   "metadata": {},
   "outputs": [],
   "source": [
    "# 6. World Bank 데이터: GDP, General Revenue, Internet Usage, Unemployment Rate\n",
    "\n",
    "def process_wb(file_name, indicator_name):\n",
    "    df = pd.read_csv(data_dir + file_name)\n",
    "    df.rename(columns={'Country Name': 'Country'}, inplace=True)\n",
    "    years = [str(y) for y in range(2013, 2023)]\n",
    "    df_long = pd.melt(df, id_vars=['Country'], value_vars=years, var_name='Year', value_name=indicator_name)\n",
    "    df_long['Country'] = df_long['Country'].replace({'United States': 'United States of America'})\n",
    "    df_long['Year'] = df_long['Year'].astype(int)\n",
    "    return df_long"
   ]
  },
  {
   "cell_type": "code",
   "execution_count": 66,
   "metadata": {},
   "outputs": [],
   "source": [
    "gdp_long = process_wb(\"WorldBank_GDP.csv\", \"GDP\")\n",
    "gdp_wide = pivot_wide(gdp_long, 'GDP', 'GDP')\n",
    "\n",
    "revenue_long = process_wb(\"WorldBank_General Revenue.csv\", \"General_Revenue\")\n",
    "revenue_wide = pivot_wide(revenue_long, 'General_Revenue', 'General Revenue')\n",
    "\n",
    "internet_long = process_wb(\"WorldBank_Individuals using the Internet (of population).csv\", \"Internet_Usage\")\n",
    "internet_wide = pivot_wide(internet_long, 'Internet_Usage', 'Internet Usage')\n",
    "\n",
    "unemployment_long = process_wb(\"WorldBank_Unemployment_Rate.csv\", \"Unemployment_Rate\")\n",
    "unemployment_wide = pivot_wide(unemployment_long, 'Unemployment_Rate', 'Unemployment Rate')"
   ]
  },
  {
   "cell_type": "code",
   "execution_count": 67,
   "metadata": {},
   "outputs": [
    {
     "name": "stdout",
     "output_type": "stream",
     "text": [
      "['China' 'France' 'Germany' 'Japan' 'Korea' 'United Kingdom'\n",
      " 'United States of America']\n",
      "Year                   Country category          2013          2014  \\\n",
      "0                        China      GDP  9.570470e+12  1.047560e+13   \n",
      "1                       France      GDP  2.816080e+12  2.861240e+12   \n",
      "2                      Germany      GDP  3.808090e+12  3.965800e+12   \n",
      "3                        Japan      GDP  5.212330e+12  4.896990e+12   \n",
      "4                        Korea      GDP  1.370630e+12  1.484490e+12   \n",
      "5               United Kingdom      GDP  2.784850e+12  3.064710e+12   \n",
      "6     United States of America      GDP  1.688070e+13  1.760810e+13   \n",
      "\n",
      "Year          2015          2016          2017          2018          2019  \\\n",
      "0     1.106160e+13  1.123330e+13  1.231050e+13  1.389490e+13  1.428000e+13   \n",
      "1     2.442480e+12  2.470410e+12  2.588870e+12  2.781580e+12  2.722790e+12   \n",
      "2     3.423570e+12  3.537780e+12  3.763090e+12  4.052010e+12  3.957210e+12   \n",
      "3     4.444930e+12  5.003680e+12  4.930840e+12  5.040880e+12  5.117990e+12   \n",
      "4     1.466040e+12  1.499680e+12  1.623070e+12  1.725370e+12  1.651420e+12   \n",
      "5     2.927910e+12  2.689110e+12  2.680150e+12  2.871340e+12  2.851410e+12   \n",
      "6     1.829500e+13  1.880490e+13  1.961210e+13  2.065650e+13  2.154000e+13   \n",
      "\n",
      "Year          2020          2021          2022  \n",
      "0     1.468770e+13  1.782050e+13  1.788180e+13  \n",
      "1     2.647930e+12  2.966430e+12  2.796300e+12  \n",
      "2     3.940140e+12  4.348300e+12  4.163600e+12  \n",
      "3     5.055590e+12  5.034620e+12  4.256410e+12  \n",
      "4     1.644310e+12  1.818430e+12  1.673920e+12  \n",
      "5     2.696780e+12  3.143320e+12  3.114040e+12  \n",
      "6     2.135410e+13  2.368120e+13  2.600690e+13  \n"
     ]
    }
   ],
   "source": [
    "print(gdp_wide['Country'].unique())\n",
    "print(gdp_wide)"
   ]
  },
  {
   "cell_type": "code",
   "execution_count": 68,
   "metadata": {},
   "outputs": [
    {
     "name": "stdout",
     "output_type": "stream",
     "text": [
      "['China' 'France' 'Germany' 'Japan' 'Korea' 'United Kingdom'\n",
      " 'United States of America']\n",
      "Year                   Country         category       2013       2014  \\\n",
      "0                        China  General Revenue  10.956237  15.818178   \n",
      "1                       France  General Revenue  44.111404  44.220335   \n",
      "2                      Germany  General Revenue  27.991581  27.949899   \n",
      "3                        Japan  General Revenue  36.051493  36.085117   \n",
      "4                        Korea  General Revenue  26.115130  24.988444   \n",
      "5               United Kingdom  General Revenue  33.726067  32.883296   \n",
      "6     United States of America  General Revenue  18.740712  18.858845   \n",
      "\n",
      "Year       2015       2016       2017       2018       2019       2020  \\\n",
      "0     16.043023  15.629926  15.883172  16.535896  16.100570  14.086087   \n",
      "1     43.977573  43.903198  44.469026  44.163770  43.056331  42.826502   \n",
      "2     27.956606  27.859773  28.008141  28.384614  28.666970  28.574162   \n",
      "3     35.967089  35.881486  36.238584  36.274192  35.861650  35.700332   \n",
      "4     24.813990  25.757187  26.184680  27.448923  27.880162  27.902502   \n",
      "5     33.102490  33.604181  33.996308  33.960955  33.532878  33.737282   \n",
      "6     18.995359  18.540821  19.209527  17.479359  17.290847  17.746397   \n",
      "\n",
      "Year       2021       2022  \n",
      "0     14.936970  15.012473  \n",
      "1     42.531351  43.295848  \n",
      "2     28.620439  28.297457  \n",
      "3     35.575895  35.796652  \n",
      "4     29.933767  32.004164  \n",
      "5     35.104052  36.680919  \n",
      "6     18.660021  19.367893  \n"
     ]
    }
   ],
   "source": [
    "print(revenue_wide['Country'].unique())\n",
    "print(revenue_wide)"
   ]
  },
  {
   "cell_type": "code",
   "execution_count": 69,
   "metadata": {},
   "outputs": [
    {
     "name": "stdout",
     "output_type": "stream",
     "text": [
      "['China' 'France' 'Germany' 'Japan' 'Korea' 'United Kingdom'\n",
      " 'United States of America']\n",
      "Year                   Country        category     2013     2014     2015  \\\n",
      "0                        China  Internet Usage  45.8000  47.9000  50.3000   \n",
      "1                       France  Internet Usage  81.9198  83.7511  78.0060   \n",
      "2                      Germany  Internet Usage  84.1700  86.1937  87.5898   \n",
      "3                        Japan  Internet Usage  88.2194  89.1068  91.0580   \n",
      "4                        Korea  Internet Usage  84.7700  87.5568  89.8963   \n",
      "5               United Kingdom  Internet Usage  89.8441  91.6133  92.0003   \n",
      "6     United States of America  Internet Usage  71.4000  73.0000  74.5542   \n",
      "\n",
      "Year     2016     2017     2018     2019     2020     2021     2022  \n",
      "0     53.2000  54.3000  59.2000  64.0809  70.0528  73.0532  75.6113  \n",
      "1     79.2698  80.5025  82.0432  83.3397  84.7064  86.0955  85.3333  \n",
      "2     84.1652  84.3942  87.0371  88.1345  89.8129  91.4306  91.6298  \n",
      "3     93.1827  91.7265  88.7464  92.7304  90.2195  82.9141  84.9234  \n",
      "4     92.8430  95.0694  96.0229  96.1576  96.5051  97.5713  97.1686  \n",
      "5     94.7758  90.4246  90.6920  92.5166  94.8182  95.2591  95.3412  \n",
      "6     85.5444  87.2749  88.4989  89.4303  96.5768  96.7792  97.1299  \n"
     ]
    }
   ],
   "source": [
    "print(internet_wide['Country'].unique())\n",
    "print(internet_wide)"
   ]
  },
  {
   "cell_type": "code",
   "execution_count": 70,
   "metadata": {},
   "outputs": [
    {
     "name": "stdout",
     "output_type": "stream",
     "text": [
      "['China' 'France' 'Germany' 'Japan' 'Korea' 'United Kingdom'\n",
      " 'United States of America']\n",
      "Year                   Country           category   2013    2014    2015  \\\n",
      "0                        China  Unemployment Rate  4.600   4.630   4.650   \n",
      "1                       France  Unemployment Rate  9.913  10.273  10.354   \n",
      "2                      Germany  Unemployment Rate  5.316   4.979   4.612   \n",
      "3                        Japan  Unemployment Rate  4.038   3.589   3.385   \n",
      "4                        Korea  Unemployment Rate  2.747   3.082   3.546   \n",
      "5               United Kingdom  Unemployment Rate  7.704   6.363   5.517   \n",
      "6     United States of America  Unemployment Rate  7.375   6.168   5.280   \n",
      "\n",
      "Year    2016   2017   2018   2019   2020   2021   2022  \n",
      "0      4.560  4.470  4.310  4.560  5.000  4.550  4.980  \n",
      "1     10.057  9.409  9.018  8.415  8.009  7.874  7.308  \n",
      "2      4.104  3.781  3.384  3.163  3.881  3.594  3.120  \n",
      "3      3.132  2.822  2.467  2.351  2.809  2.828  2.600  \n",
      "4      3.650  3.653  3.824  3.746  3.931  3.639  2.857  \n",
      "5      4.867  4.452  4.120  3.613  4.472  4.826  3.730  \n",
      "6      4.869  4.355  3.896  3.669  8.055  5.349  3.650  \n"
     ]
    }
   ],
   "source": [
    "print(unemployment_wide['Country'].unique())\n",
    "print(unemployment_wide)"
   ]
  },
  {
   "cell_type": "markdown",
   "metadata": {},
   "source": [
    "## 통합: 모든 pivoted 데이터를 세로로 concat"
   ]
  },
  {
   "cell_type": "code",
   "execution_count": 71,
   "metadata": {},
   "outputs": [],
   "source": [
    "all_dfs = [\n",
    "    tax_wide,\n",
    "    gerd_wide,\n",
    "    gii_wide,\n",
    "    patent_wide,\n",
    "    wipo_tax_wide,\n",
    "    gdp_wide,\n",
    "    revenue_wide,\n",
    "    internet_wide,\n",
    "    unemployment_wide\n",
    "]\n",
    "\n",
    "final_df = pd.concat(all_dfs, axis=0, ignore_index=True)"
   ]
  },
  {
   "cell_type": "code",
   "execution_count": 72,
   "metadata": {},
   "outputs": [
    {
     "name": "stdout",
     "output_type": "stream",
     "text": [
      "Year                   Country           category   2013   2014   2015   2016  \\\n",
      "0                        China      Corporate Tax  25.0%  25.0%  25.0%  25.0%   \n",
      "1                       France      Corporate Tax  38.0%  38.0%  38.0%  34.4%   \n",
      "2                      Germany      Corporate Tax  29.6%  29.7%  29.8%  29.8%   \n",
      "3                        Japan      Corporate Tax  37.0%  34.6%  32.1%  30.0%   \n",
      "4                        Korea      Corporate Tax  24.2%  24.2%  24.2%  24.2%   \n",
      "..                         ...                ...    ...    ...    ...    ...   \n",
      "121                    Germany  Unemployment Rate  5.316  4.979  4.612  4.104   \n",
      "122                      Japan  Unemployment Rate  4.038  3.589  3.385  3.132   \n",
      "123                      Korea  Unemployment Rate  2.747  3.082  3.546   3.65   \n",
      "124             United Kingdom  Unemployment Rate  7.704  6.363  5.517  4.867   \n",
      "125   United States of America  Unemployment Rate  7.375  6.168   5.28  4.869   \n",
      "\n",
      "Year   2017   2018   2019   2020   2021   2022  \n",
      "0     25.0%  25.0%  25.0%  25.0%  25.0%  25.0%  \n",
      "1     44.4%  34.4%  34.4%  32.0%  28.4%  25.8%  \n",
      "2     29.9%  29.9%  29.9%  29.8%  29.9%  29.9%  \n",
      "3     30.0%  29.7%  29.7%  29.7%  29.7%  29.7%  \n",
      "4     24.2%  27.5%  27.5%  27.5%  27.5%  27.5%  \n",
      "..      ...    ...    ...    ...    ...    ...  \n",
      "121   3.781  3.384  3.163  3.881  3.594   3.12  \n",
      "122   2.822  2.467  2.351  2.809  2.828    2.6  \n",
      "123   3.653  3.824  3.746  3.931  3.639  2.857  \n",
      "124   4.452   4.12  3.613  4.472  4.826   3.73  \n",
      "125   4.355  3.896  3.669  8.055  5.349   3.65  \n",
      "\n",
      "[126 rows x 12 columns]\n"
     ]
    }
   ],
   "source": [
    "final_df.shape\n",
    "print(final_df)"
   ]
  },
  {
   "cell_type": "code",
   "execution_count": 73,
   "metadata": {},
   "outputs": [
    {
     "name": "stdout",
     "output_type": "stream",
     "text": [
      "['Corporate Tax' 'GERD' 'Institutions' 'Human capital and research'\n",
      " 'Infrastructure' 'Market sophistication' 'Business sophistication'\n",
      " 'Knowledge and technology outputs' 'Creative outputs'\n",
      " 'Global Innovation Index' 'GNI_per_capita' 'GDP_per_capita_PPP'\n",
      " 'Patent Publications' 'WIPO Tax' 'GDP' 'General Revenue' 'Internet Usage'\n",
      " 'Unemployment Rate']\n",
      "['China' 'France' 'Germany' 'Japan' 'Korea' 'United Kingdom'\n",
      " 'United States of America']\n"
     ]
    }
   ],
   "source": [
    "print(final_df['category'].unique())\n",
    "print(final_df[\"Country\"].unique())"
   ]
  },
  {
   "cell_type": "code",
   "execution_count": 74,
   "metadata": {},
   "outputs": [],
   "source": [
    "final_df.to_csv(data_dir + \"no.csv\", index=False)"
   ]
  },
  {
   "cell_type": "code",
   "execution_count": 75,
   "metadata": {},
   "outputs": [],
   "source": [
    "data_path = \"../data/no.csv\"\n",
    "df = pd.read_csv(data_path)"
   ]
  },
  {
   "cell_type": "code",
   "execution_count": 76,
   "metadata": {},
   "outputs": [],
   "source": [
    "years = [str(year) for year in range(2013, 2023)]\n",
    "mask = df['category'] == 'Corporate Tax'\n",
    "for year in years:\n",
    "    df.loc[mask, year] = df.loc[mask, year].astype(str).str.replace('%', '', regex=False).str.strip().astype(float)"
   ]
  },
  {
   "cell_type": "code",
   "execution_count": 77,
   "metadata": {},
   "outputs": [
    {
     "name": "stdout",
     "output_type": "stream",
     "text": [
      "2013    float64\n",
      "2014    float64\n",
      "2015    float64\n",
      "2016    float64\n",
      "2017    float64\n",
      "2018    float64\n",
      "2019    float64\n",
      "2020    float64\n",
      "2021    float64\n",
      "2022    float64\n",
      "dtype: object\n"
     ]
    }
   ],
   "source": [
    "for year in years:\n",
    "    df[year] = pd.to_numeric(df[year], errors='coerce').round(4)\n",
    "print(df[years].dtypes)"
   ]
  },
  {
   "cell_type": "code",
   "execution_count": 78,
   "metadata": {},
   "outputs": [],
   "source": [
    "df.to_csv(data_dir + \"master_data_by_category.csv\", index=False)"
   ]
  }
 ],
 "metadata": {
  "kernelspec": {
   "display_name": ".venv",
   "language": "python",
   "name": "python3"
  },
  "language_info": {
   "codemirror_mode": {
    "name": "ipython",
    "version": 3
   },
   "file_extension": ".py",
   "mimetype": "text/x-python",
   "name": "python",
   "nbconvert_exporter": "python",
   "pygments_lexer": "ipython3",
   "version": "3.11.2"
  }
 },
 "nbformat": 4,
 "nbformat_minor": 2
}
