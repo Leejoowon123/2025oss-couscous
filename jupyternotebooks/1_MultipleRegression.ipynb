{
 "cells": [
  {
   "cell_type": "markdown",
   "metadata": {},
   "source": [
    "# 다중회귀분석"
   ]
  },
  {
   "cell_type": "markdown",
   "metadata": {},
   "source": [
    "## 2022년 단면 자료"
   ]
  },
  {
   "cell_type": "code",
   "execution_count": 5,
   "metadata": {},
   "outputs": [],
   "source": [
    "import pandas as pd\n",
    "import numpy as np\n",
    "import statsmodels.api as sm\n",
    "from statsmodels.stats.outliers_influence import variance_inflation_factor\n",
    "from linearmodels.panel import PanelOLS, RandomEffects"
   ]
  },
  {
   "cell_type": "code",
   "execution_count": 6,
   "metadata": {},
   "outputs": [],
   "source": [
    "df = pd.read_csv(\"../data/master_data_by_category.csv\")"
   ]
  },
  {
   "cell_type": "code",
   "execution_count": 7,
   "metadata": {},
   "outputs": [
    {
     "name": "stdout",
     "output_type": "stream",
     "text": [
      "['Country', 'Business sophistication', 'Corporate Tax', 'Creative outputs', 'GDP', 'GDP_per_capita_PPP', 'GERD', 'GNI_per_capita', 'General Revenue', 'Global Innovation Index', 'Human capital and research', 'Infrastructure', 'Institutions', 'Internet Usage', 'Knowledge and technology outputs', 'Market sophistication', 'Patent Publications', 'Unemployment Rate', 'WIPO Tax']\n"
     ]
    }
   ],
   "source": [
    "df_2022 = df[['Country', 'category', '2022']].copy()\n",
    "df_2022.rename(columns={'2022': 'Value'}, inplace=True)\n",
    "# Pivot: 각 Country별로 각 category가 컬럼이 되도록\n",
    "df_wide = df_2022.pivot(index='Country', columns='category', values='Value').reset_index()\n",
    "print(df_wide.columns.tolist())"
   ]
  },
  {
   "cell_type": "markdown",
   "metadata": {},
   "source": [
    "#### 1-2. 종속변수와 독립변수 선택\n",
    "- 종속변수: 'GDP'\n",
    "- 독립변수: 'Corporate Tax', 'GERD', 'Institutions'"
   ]
  },
  {
   "cell_type": "code",
   "execution_count": null,
   "metadata": {},
   "outputs": [
    {
     "name": "stdout",
     "output_type": "stream",
     "text": [
      "2022 단면 자료 미리보기:\n",
      "category  Country           GDP  Corporate Tax    GERD  Institutions\n",
      "0           China  1.788180e+13           25.0  2.5552          64.8\n",
      "1          France  2.796300e+12           25.8  2.2331          77.0\n",
      "2         Germany  4.163600e+12           29.9  3.1324          76.5\n",
      "3           Japan  4.256410e+12           29.7  3.4054          75.8\n",
      "4           Korea  1.673920e+12           27.5  5.2108          70.5\n"
     ]
    }
   ],
   "source": [
    "dependent_var = 'GDP'\n",
    "independent_vars = ['Corporate Tax', 'GERD', 'Institutions']\n",
    "\n",
    "df_reg = df_wide.dropna(subset=[dependent_var] + independent_vars).copy()\n",
    "print(\"2022 단면 자료:\")\n",
    "print(df_reg[['Country'] + [dependent_var] + independent_vars].head())"
   ]
  },
  {
   "cell_type": "markdown",
   "metadata": {},
   "source": [
    "#### 1-3. 변수 간 다중 공선성 확인 (VIF)"
   ]
  },
  {
   "cell_type": "code",
   "execution_count": 9,
   "metadata": {},
   "outputs": [
    {
     "name": "stdout",
     "output_type": "stream",
     "text": [
      "         feature         VIF\n",
      "0          const  278.878771\n",
      "1  Corporate Tax    1.130578\n",
      "2           GERD    1.114769\n",
      "3   Institutions    1.025536\n"
     ]
    }
   ],
   "source": [
    "X = df_reg[independent_vars]\n",
    "X_const = sm.add_constant(X)\n",
    "vif_data = pd.DataFrame({\n",
    "    \"feature\": X_const.columns,\n",
    "    \"VIF\": [variance_inflation_factor(X_const.values, i) for i in range(X_const.shape[1])]\n",
    "})\n",
    "print(vif_data)"
   ]
  },
  {
   "cell_type": "markdown",
   "metadata": {},
   "source": [
    "#### 1-4. OLS 다중 회귀 분석 수행"
   ]
  },
  {
   "cell_type": "code",
   "execution_count": 10,
   "metadata": {},
   "outputs": [
    {
     "name": "stdout",
     "output_type": "stream",
     "text": [
      "OLS 회귀 분석 결과:\n",
      "                            OLS Regression Results                            \n",
      "==============================================================================\n",
      "Dep. Variable:                    GDP   R-squared:                       0.020\n",
      "Model:                            OLS   Adj. R-squared:                 -0.960\n",
      "Method:                 Least Squares   F-statistic:                   0.02053\n",
      "Date:                Tue, 11 Mar 2025   Prob (F-statistic):              0.995\n",
      "Time:                        21:40:20   Log-Likelihood:                -218.48\n",
      "No. Observations:                   7   AIC:                             445.0\n",
      "Df Residuals:                       3   BIC:                             444.8\n",
      "Df Model:                           3                                         \n",
      "Covariance Type:            nonrobust                                         \n",
      "=================================================================================\n",
      "                    coef    std err          t      P>|t|      [0.025      0.975]\n",
      "---------------------------------------------------------------------------------\n",
      "const          6.044e+12   8.38e+13      0.072      0.947   -2.61e+14    2.73e+14\n",
      "Corporate Tax -1.597e+11   1.57e+12     -0.102      0.925   -5.15e+12    4.83e+12\n",
      "GERD          -8.878e+11   5.89e+12     -0.151      0.890   -1.96e+13    1.79e+13\n",
      "Institutions   1.292e+11   1.05e+12      0.123      0.910   -3.22e+12    3.48e+12\n",
      "==============================================================================\n",
      "Omnibus:                          nan   Durbin-Watson:                   1.636\n",
      "Prob(Omnibus):                    nan   Jarque-Bera (JB):                1.368\n",
      "Skew:                           1.037   Prob(JB):                        0.505\n",
      "Kurtosis:                       2.374   Cond. No.                     1.32e+03\n",
      "==============================================================================\n",
      "\n",
      "Notes:\n",
      "[1] Standard Errors assume that the covariance matrix of the errors is correctly specified.\n",
      "[2] The condition number is large, 1.32e+03. This might indicate that there are\n",
      "strong multicollinearity or other numerical problems.\n"
     ]
    },
    {
     "name": "stderr",
     "output_type": "stream",
     "text": [
      "c:\\workspace\\2025oss-couscous\\.venv\\Lib\\site-packages\\statsmodels\\stats\\stattools.py:74: ValueWarning: omni_normtest is not valid with less than 8 observations; 7 samples were given.\n",
      "  warn(\"omni_normtest is not valid with less than 8 observations; %i \"\n"
     ]
    }
   ],
   "source": [
    "y = df_reg[dependent_var]\n",
    "model = sm.OLS(y, X_const).fit()\n",
    "print(\"OLS 회귀 분석 결과:\")\n",
    "print(model.summary())"
   ]
  },
  {
   "cell_type": "markdown",
   "metadata": {},
   "source": [
    "# 패널 데이터 분석"
   ]
  },
  {
   "cell_type": "markdown",
   "metadata": {},
   "source": [
    "#### 2-1. 원본 데이터를 long format으로 변환 (Country, category, Year, Value)"
   ]
  },
  {
   "cell_type": "code",
   "execution_count": 11,
   "metadata": {},
   "outputs": [],
   "source": [
    "year_cols = [str(y) for y in range(2013, 2023)]\n",
    "df_long = df.melt(id_vars=['Country', 'category'], value_vars=year_cols,\n",
    "                  var_name='Year', value_name='Value')\n",
    "df_long['Year'] = df_long['Year'].astype(int)"
   ]
  },
  {
   "cell_type": "markdown",
   "metadata": {},
   "source": [
    "#### 2-2. 패널 데이터 형태 \n",
    "- pivot: index = [Country, Year], columns = category, values = Value"
   ]
  },
  {
   "cell_type": "code",
   "execution_count": 12,
   "metadata": {},
   "outputs": [
    {
     "name": "stdout",
     "output_type": "stream",
     "text": [
      "패널 데이터\n",
      "category      Business sophistication  Corporate Tax  Creative outputs  \\\n",
      "Country Year                                                             \n",
      "China   2013                     42.9           25.0              31.9   \n",
      "        2014                     41.8           25.0              35.7   \n",
      "        2015                     44.9           25.0              35.1   \n",
      "        2016                     53.8           25.0              42.7   \n",
      "        2017                     54.5           25.0              45.3   \n",
      "\n",
      "category               GDP  GDP_per_capita_PPP    GERD  GNI_per_capita  \\\n",
      "Country Year                                                             \n",
      "China   2013  9.570470e+12          11872.4974  1.9979          6740.0   \n",
      "        2014  1.047560e+13          12480.3385  2.0224          7470.0   \n",
      "        2015  1.106160e+13          12897.5023  2.0570          7890.0   \n",
      "        2016  1.123330e+13          13483.3773  2.1003          8210.0   \n",
      "        2017  1.231050e+13          14243.5326  2.1160          8670.0   \n",
      "\n",
      "category      General Revenue  Global Innovation Index  \\\n",
      "Country Year                                             \n",
      "China   2013          10.9562                     44.7   \n",
      "        2014          15.8182                     46.6   \n",
      "        2015          16.0430                     47.5   \n",
      "        2016          15.6299                     50.6   \n",
      "        2017          15.8832                     52.5   \n",
      "\n",
      "category      Human capital and research  Infrastructure  Institutions  \\\n",
      "Country Year                                                             \n",
      "China   2013                        40.6            39.8          48.3   \n",
      "        2014                        43.4            45.0          48.3   \n",
      "        2015                        43.1            50.5          54.0   \n",
      "        2016                        48.1            52.0          55.2   \n",
      "        2017                        49.2            57.9          54.8   \n",
      "\n",
      "category      Internet Usage  Knowledge and technology outputs  \\\n",
      "Country Year                                                     \n",
      "China   2013            45.8                              56.4   \n",
      "        2014            47.9                              59.0   \n",
      "        2015            50.3                              58.0   \n",
      "        2016            53.2                              53.3   \n",
      "        2017            54.3                              56.4   \n",
      "\n",
      "category      Market sophistication  Patent Publications  Unemployment Rate  \\\n",
      "Country Year                                                                  \n",
      "China   2013                   54.2              10367.0               4.60   \n",
      "        2014                   50.5              12334.0               4.63   \n",
      "        2015                   49.3              14812.0               4.65   \n",
      "        2016                   56.6              16214.0               4.56   \n",
      "        2017                   54.7              20372.0               4.47   \n",
      "\n",
      "category      WIPO Tax  \n",
      "Country Year            \n",
      "China   2013    18.640  \n",
      "        2014    18.518  \n",
      "        2015    18.135  \n",
      "        2016    17.464  \n",
      "        2017    17.351  \n"
     ]
    }
   ],
   "source": [
    "panel_df = df_long.pivot(index=['Country', 'Year'], columns='category', values='Value')\n",
    "print(\"패널 데이터\")\n",
    "print(panel_df.head())"
   ]
  },
  {
   "cell_type": "code",
   "execution_count": 13,
   "metadata": {},
   "outputs": [],
   "source": [
    "# 결측치 제거\n",
    "panel_reg = panel_df.dropna(subset=[dependent_var] + independent_vars).copy()"
   ]
  },
  {
   "cell_type": "markdown",
   "metadata": {},
   "source": [
    "#### 2-4. 고정효과 모델 (Fixed Effects Model)\n",
    " - 독립변수에 상수항 추가 (linearmodels의 PanelOLS는 자동으로 상수항을 포함하지 않음)"
   ]
  },
  {
   "cell_type": "code",
   "execution_count": 14,
   "metadata": {},
   "outputs": [
    {
     "name": "stdout",
     "output_type": "stream",
     "text": [
      "Fixed Effects Model 결과:\n",
      "                          PanelOLS Estimation Summary                           \n",
      "================================================================================\n",
      "Dep. Variable:                    GDP   R-squared:                        0.4871\n",
      "Estimator:                   PanelOLS   R-squared (Between):             -0.3811\n",
      "No. Observations:                  70   R-squared (Within):               0.4871\n",
      "Date:                Tue, Mar 11 2025   R-squared (Overall):             -0.3393\n",
      "Time:                        21:43:00   Log-likelihood                   -2037.1\n",
      "Cov. Estimator:             Clustered                                           \n",
      "                                        F-statistic:                      18.996\n",
      "Entities:                           7   P-value                           0.0000\n",
      "Avg Obs:                      10.0000   Distribution:                    F(3,60)\n",
      "Min Obs:                      10.0000                                           \n",
      "Max Obs:                      10.0000   F-statistic (robust):             3.8199\n",
      "                                        P-value                           0.0143\n",
      "Time periods:                      10   Distribution:                    F(3,60)\n",
      "Avg Obs:                       7.0000                                           \n",
      "Min Obs:                       7.0000                                           \n",
      "Max Obs:                       7.0000                                           \n",
      "                                                                                \n",
      "                               Parameter Estimates                               \n",
      "=================================================================================\n",
      "               Parameter  Std. Err.     T-stat    P-value    Lower CI    Upper CI\n",
      "---------------------------------------------------------------------------------\n",
      "const         -8.096e+12  9.988e+12    -0.8106     0.4208  -2.807e+13   1.188e+13\n",
      "Corporate Tax -1.326e+11  7.096e+10    -1.8680     0.0666  -2.745e+11   9.384e+09\n",
      "GERD           2.403e+12  1.272e+12     1.8891     0.0637  -1.414e+11   4.946e+12\n",
      "Institutions    1.49e+11  9.032e+10     1.6495     0.1043  -3.168e+10   3.296e+11\n",
      "=================================================================================\n",
      "\n",
      "F-test for Poolability: 372.32\n",
      "P-value: 0.0000\n",
      "Distribution: F(6,60)\n",
      "\n",
      "Included effects: Entity\n"
     ]
    }
   ],
   "source": [
    "exog = panel_reg[independent_vars]\n",
    "exog = sm.add_constant(exog)\n",
    "dep = panel_reg[dependent_var]\n",
    "\n",
    "fe_model = PanelOLS(dep, exog, entity_effects=True)\n",
    "fe_results = fe_model.fit(cov_type='clustered', cluster_entity=True)\n",
    "print(\"Fixed Effects Model 결과:\")\n",
    "print(fe_results.summary)"
   ]
  },
  {
   "cell_type": "markdown",
   "metadata": {},
   "source": [
    "#### 2-5. 랜덤효과 모델 (Random Effects Model)"
   ]
  },
  {
   "cell_type": "code",
   "execution_count": 15,
   "metadata": {},
   "outputs": [
    {
     "name": "stdout",
     "output_type": "stream",
     "text": [
      "Random Effects Model 결과:\n",
      "                        RandomEffects Estimation Summary                        \n",
      "================================================================================\n",
      "Dep. Variable:                    GDP   R-squared:                        0.4623\n",
      "Estimator:              RandomEffects   R-squared (Between):             -0.3710\n",
      "No. Observations:                  70   R-squared (Within):               0.4870\n",
      "Date:                Tue, Mar 11 2025   R-squared (Overall):             -0.3297\n",
      "Time:                        21:43:10   Log-likelihood                   -2039.8\n",
      "Cov. Estimator:            Unadjusted                                           \n",
      "                                        F-statistic:                      18.918\n",
      "Entities:                           7   P-value                           0.0000\n",
      "Avg Obs:                      10.0000   Distribution:                    F(3,66)\n",
      "Min Obs:                      10.0000                                           \n",
      "Max Obs:                      10.0000   F-statistic (robust):             18.918\n",
      "                                        P-value                           0.0000\n",
      "Time periods:                      10   Distribution:                    F(3,66)\n",
      "Avg Obs:                       7.0000                                           \n",
      "Min Obs:                       7.0000                                           \n",
      "Max Obs:                       7.0000                                           \n",
      "                                                                                \n",
      "                               Parameter Estimates                               \n",
      "=================================================================================\n",
      "               Parameter  Std. Err.     T-stat    P-value    Lower CI    Upper CI\n",
      "---------------------------------------------------------------------------------\n",
      "const         -7.689e+12  5.052e+12    -1.5221     0.1328  -1.778e+13   2.397e+12\n",
      "Corporate Tax -1.327e+11  4.136e+10    -3.2081     0.0021  -2.153e+11  -5.011e+10\n",
      "GERD           2.349e+12  5.252e+11     4.4722     0.0000     1.3e+12   3.397e+12\n",
      "Institutions   1.459e+11  3.645e+10     4.0037     0.0002   7.316e+10   2.187e+11\n",
      "=================================================================================\n"
     ]
    }
   ],
   "source": [
    "re_model = RandomEffects(dep, exog)\n",
    "re_results = re_model.fit()\n",
    "print(\"Random Effects Model 결과:\")\n",
    "print(re_results.summary)"
   ]
  },
  {
   "cell_type": "code",
   "execution_count": null,
   "metadata": {},
   "outputs": [],
   "source": []
  }
 ],
 "metadata": {
  "kernelspec": {
   "display_name": ".venv",
   "language": "python",
   "name": "python3"
  },
  "language_info": {
   "codemirror_mode": {
    "name": "ipython",
    "version": 3
   },
   "file_extension": ".py",
   "mimetype": "text/x-python",
   "name": "python",
   "nbconvert_exporter": "python",
   "pygments_lexer": "ipython3",
   "version": "3.11.2"
  }
 },
 "nbformat": 4,
 "nbformat_minor": 2
}
